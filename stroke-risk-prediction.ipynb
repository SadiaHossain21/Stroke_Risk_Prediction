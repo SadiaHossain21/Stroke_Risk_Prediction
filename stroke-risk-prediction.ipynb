{
 "cells": [
  {
   "cell_type": "markdown",
   "id": "57e290b7",
   "metadata": {
    "_cell_guid": "b1076dfc-b9ad-4769-8c92-a6c4dae69d19",
    "_uuid": "8f2839f25d086af736a60e9eeb907d3b93b6e0e5",
    "papermill": {
     "duration": 0.010214,
     "end_time": "2025-05-05T18:01:46.543766",
     "exception": false,
     "start_time": "2025-05-05T18:01:46.533552",
     "status": "completed"
    },
    "tags": []
   },
   "source": [
    "# **1. Introduction**\n",
    "\n",
    "\n",
    "This project uses the `stroke-data.csv` dataset from Kaggle to build a machine learning model that predicts a patient's risk of stroke. Due to the rarity of stroke cases, we address class imbalance and focus on metrics like **Recall** and **ROC-AUC** to avoid missing high-risk patients.\n",
    "\n",
    "Key steps:\n",
    "- Data cleaning and feature selection\n",
    "- Model testing and evaluation\n",
    "- Emphasis on accuracy and clinical usefulness\n",
    "\n",
    "The goal is a reliable, easy-to-use tool to help doctors detect stroke risk early."
   ]
  },
  {
   "cell_type": "code",
   "execution_count": 1,
   "id": "61112ef3",
   "metadata": {
    "execution": {
     "iopub.execute_input": "2025-05-05T18:01:46.563285Z",
     "iopub.status.busy": "2025-05-05T18:01:46.562950Z",
     "iopub.status.idle": "2025-05-05T18:01:56.190005Z",
     "shell.execute_reply": "2025-05-05T18:01:56.188664Z"
    },
    "papermill": {
     "duration": 9.63886,
     "end_time": "2025-05-05T18:01:56.191897",
     "exception": false,
     "start_time": "2025-05-05T18:01:46.553037",
     "status": "completed"
    },
    "tags": []
   },
   "outputs": [
    {
     "name": "stdout",
     "output_type": "stream",
     "text": [
      "Requirement already satisfied: imbalanced-learn in /usr/local/lib/python3.11/dist-packages (0.13.0)\r\n",
      "Requirement already satisfied: numpy<3,>=1.24.3 in /usr/local/lib/python3.11/dist-packages (from imbalanced-learn) (1.26.4)\r\n",
      "Requirement already satisfied: scipy<2,>=1.10.1 in /usr/local/lib/python3.11/dist-packages (from imbalanced-learn) (1.15.2)\r\n",
      "Collecting scikit-learn<2,>=1.3.2 (from imbalanced-learn)\r\n",
      "  Downloading scikit_learn-1.6.1-cp311-cp311-manylinux_2_17_x86_64.manylinux2014_x86_64.whl.metadata (18 kB)\r\n",
      "Requirement already satisfied: sklearn-compat<1,>=0.1 in /usr/local/lib/python3.11/dist-packages (from imbalanced-learn) (0.1.3)\r\n",
      "Requirement already satisfied: joblib<2,>=1.1.1 in /usr/local/lib/python3.11/dist-packages (from imbalanced-learn) (1.4.2)\r\n",
      "Requirement already satisfied: threadpoolctl<4,>=2.0.0 in /usr/local/lib/python3.11/dist-packages (from imbalanced-learn) (3.6.0)\r\n",
      "Requirement already satisfied: mkl_fft in /usr/local/lib/python3.11/dist-packages (from numpy<3,>=1.24.3->imbalanced-learn) (1.3.8)\r\n",
      "Requirement already satisfied: mkl_random in /usr/local/lib/python3.11/dist-packages (from numpy<3,>=1.24.3->imbalanced-learn) (1.2.4)\r\n",
      "Requirement already satisfied: mkl_umath in /usr/local/lib/python3.11/dist-packages (from numpy<3,>=1.24.3->imbalanced-learn) (0.1.1)\r\n",
      "Requirement already satisfied: mkl in /usr/local/lib/python3.11/dist-packages (from numpy<3,>=1.24.3->imbalanced-learn) (2025.1.0)\r\n",
      "Requirement already satisfied: tbb4py in /usr/local/lib/python3.11/dist-packages (from numpy<3,>=1.24.3->imbalanced-learn) (2022.1.0)\r\n",
      "Requirement already satisfied: mkl-service in /usr/local/lib/python3.11/dist-packages (from numpy<3,>=1.24.3->imbalanced-learn) (2.4.1)\r\n",
      "Requirement already satisfied: intel-openmp<2026,>=2024 in /usr/local/lib/python3.11/dist-packages (from mkl->numpy<3,>=1.24.3->imbalanced-learn) (2024.2.0)\r\n",
      "Requirement already satisfied: tbb==2022.* in /usr/local/lib/python3.11/dist-packages (from mkl->numpy<3,>=1.24.3->imbalanced-learn) (2022.1.0)\r\n",
      "Requirement already satisfied: tcmlib==1.* in /usr/local/lib/python3.11/dist-packages (from tbb==2022.*->mkl->numpy<3,>=1.24.3->imbalanced-learn) (1.2.0)\r\n",
      "Requirement already satisfied: intel-cmplr-lib-rt in /usr/local/lib/python3.11/dist-packages (from mkl_umath->numpy<3,>=1.24.3->imbalanced-learn) (2024.2.0)\r\n",
      "Requirement already satisfied: intel-cmplr-lib-ur==2024.2.0 in /usr/local/lib/python3.11/dist-packages (from intel-openmp<2026,>=2024->mkl->numpy<3,>=1.24.3->imbalanced-learn) (2024.2.0)\r\n",
      "Downloading scikit_learn-1.6.1-cp311-cp311-manylinux_2_17_x86_64.manylinux2014_x86_64.whl (13.5 MB)\r\n",
      "\u001b[2K   \u001b[90m━━━━━━━━━━━━━━━━━━━━━━━━━━━━━━━━━━━━━━━━\u001b[0m \u001b[32m13.5/13.5 MB\u001b[0m \u001b[31m81.1 MB/s\u001b[0m eta \u001b[36m0:00:00\u001b[0m\r\n",
      "\u001b[?25hInstalling collected packages: scikit-learn\r\n",
      "  Attempting uninstall: scikit-learn\r\n",
      "    Found existing installation: scikit-learn 1.2.2\r\n",
      "    Uninstalling scikit-learn-1.2.2:\r\n",
      "      Successfully uninstalled scikit-learn-1.2.2\r\n",
      "\u001b[31mERROR: pip's dependency resolver does not currently take into account all the packages that are installed. This behaviour is the source of the following dependency conflicts.\r\n",
      "category-encoders 2.7.0 requires scikit-learn<1.6.0,>=1.0.0, but you have scikit-learn 1.6.1 which is incompatible.\r\n",
      "bigframes 1.36.0 requires rich<14,>=12.4.4, but you have rich 14.0.0 which is incompatible.\u001b[0m\u001b[31m\r\n",
      "\u001b[0mSuccessfully installed scikit-learn-1.6.1\r\n"
     ]
    }
   ],
   "source": [
    "!pip install imbalanced-learn"
   ]
  },
  {
   "cell_type": "markdown",
   "id": "e4650de9",
   "metadata": {
    "papermill": {
     "duration": 0.009558,
     "end_time": "2025-05-05T18:01:56.211671",
     "exception": false,
     "start_time": "2025-05-05T18:01:56.202113",
     "status": "completed"
    },
    "tags": []
   },
   "source": [
    "# **2. Data Overview** (EDA)\n",
    "\n",
    "In this section, we load the dataset, inspect its structure, and provide an initial understanding of the available features."
   ]
  },
  {
   "cell_type": "code",
   "execution_count": 2,
   "id": "7ad1e532",
   "metadata": {
    "execution": {
     "iopub.execute_input": "2025-05-05T18:01:56.232712Z",
     "iopub.status.busy": "2025-05-05T18:01:56.232399Z",
     "iopub.status.idle": "2025-05-05T18:01:58.226160Z",
     "shell.execute_reply": "2025-05-05T18:01:58.224774Z"
    },
    "papermill": {
     "duration": 2.006464,
     "end_time": "2025-05-05T18:01:58.227857",
     "exception": false,
     "start_time": "2025-05-05T18:01:56.221393",
     "status": "completed"
    },
    "tags": []
   },
   "outputs": [
    {
     "name": "stderr",
     "output_type": "stream",
     "text": [
      "/usr/local/lib/python3.11/dist-packages/pandas/io/formats/format.py:1458: RuntimeWarning: invalid value encountered in greater\n",
      "  has_large_values = (abs_vals > 1e6).any()\n",
      "/usr/local/lib/python3.11/dist-packages/pandas/io/formats/format.py:1459: RuntimeWarning: invalid value encountered in less\n",
      "  has_small_values = ((abs_vals < 10 ** (-self.digits)) & (abs_vals > 0)).any()\n",
      "/usr/local/lib/python3.11/dist-packages/pandas/io/formats/format.py:1459: RuntimeWarning: invalid value encountered in greater\n",
      "  has_small_values = ((abs_vals < 10 ** (-self.digits)) & (abs_vals > 0)).any()\n"
     ]
    },
    {
     "data": {
      "text/html": [
       "<div>\n",
       "<style scoped>\n",
       "    .dataframe tbody tr th:only-of-type {\n",
       "        vertical-align: middle;\n",
       "    }\n",
       "\n",
       "    .dataframe tbody tr th {\n",
       "        vertical-align: top;\n",
       "    }\n",
       "\n",
       "    .dataframe thead th {\n",
       "        text-align: right;\n",
       "    }\n",
       "</style>\n",
       "<table border=\"1\" class=\"dataframe\">\n",
       "  <thead>\n",
       "    <tr style=\"text-align: right;\">\n",
       "      <th></th>\n",
       "      <th>id</th>\n",
       "      <th>gender</th>\n",
       "      <th>age</th>\n",
       "      <th>hypertension</th>\n",
       "      <th>heart_disease</th>\n",
       "      <th>ever_married</th>\n",
       "      <th>work_type</th>\n",
       "      <th>Residence_type</th>\n",
       "      <th>avg_glucose_level</th>\n",
       "      <th>bmi</th>\n",
       "      <th>smoking_status</th>\n",
       "      <th>stroke</th>\n",
       "    </tr>\n",
       "  </thead>\n",
       "  <tbody>\n",
       "    <tr>\n",
       "      <th>0</th>\n",
       "      <td>9046</td>\n",
       "      <td>Male</td>\n",
       "      <td>67.0</td>\n",
       "      <td>0</td>\n",
       "      <td>1</td>\n",
       "      <td>Yes</td>\n",
       "      <td>Private</td>\n",
       "      <td>Urban</td>\n",
       "      <td>228.69</td>\n",
       "      <td>36.6</td>\n",
       "      <td>formerly smoked</td>\n",
       "      <td>1</td>\n",
       "    </tr>\n",
       "    <tr>\n",
       "      <th>1</th>\n",
       "      <td>51676</td>\n",
       "      <td>Female</td>\n",
       "      <td>61.0</td>\n",
       "      <td>0</td>\n",
       "      <td>0</td>\n",
       "      <td>Yes</td>\n",
       "      <td>Self-employed</td>\n",
       "      <td>Rural</td>\n",
       "      <td>202.21</td>\n",
       "      <td>NaN</td>\n",
       "      <td>never smoked</td>\n",
       "      <td>1</td>\n",
       "    </tr>\n",
       "    <tr>\n",
       "      <th>2</th>\n",
       "      <td>31112</td>\n",
       "      <td>Male</td>\n",
       "      <td>80.0</td>\n",
       "      <td>0</td>\n",
       "      <td>1</td>\n",
       "      <td>Yes</td>\n",
       "      <td>Private</td>\n",
       "      <td>Rural</td>\n",
       "      <td>105.92</td>\n",
       "      <td>32.5</td>\n",
       "      <td>never smoked</td>\n",
       "      <td>1</td>\n",
       "    </tr>\n",
       "    <tr>\n",
       "      <th>3</th>\n",
       "      <td>60182</td>\n",
       "      <td>Female</td>\n",
       "      <td>49.0</td>\n",
       "      <td>0</td>\n",
       "      <td>0</td>\n",
       "      <td>Yes</td>\n",
       "      <td>Private</td>\n",
       "      <td>Urban</td>\n",
       "      <td>171.23</td>\n",
       "      <td>34.4</td>\n",
       "      <td>smokes</td>\n",
       "      <td>1</td>\n",
       "    </tr>\n",
       "    <tr>\n",
       "      <th>4</th>\n",
       "      <td>1665</td>\n",
       "      <td>Female</td>\n",
       "      <td>79.0</td>\n",
       "      <td>1</td>\n",
       "      <td>0</td>\n",
       "      <td>Yes</td>\n",
       "      <td>Self-employed</td>\n",
       "      <td>Rural</td>\n",
       "      <td>174.12</td>\n",
       "      <td>24.0</td>\n",
       "      <td>never smoked</td>\n",
       "      <td>1</td>\n",
       "    </tr>\n",
       "  </tbody>\n",
       "</table>\n",
       "</div>"
      ],
      "text/plain": [
       "      id  gender   age  hypertension  heart_disease ever_married  \\\n",
       "0   9046    Male  67.0             0              1          Yes   \n",
       "1  51676  Female  61.0             0              0          Yes   \n",
       "2  31112    Male  80.0             0              1          Yes   \n",
       "3  60182  Female  49.0             0              0          Yes   \n",
       "4   1665  Female  79.0             1              0          Yes   \n",
       "\n",
       "       work_type Residence_type  avg_glucose_level   bmi   smoking_status  \\\n",
       "0        Private          Urban             228.69  36.6  formerly smoked   \n",
       "1  Self-employed          Rural             202.21   NaN     never smoked   \n",
       "2        Private          Rural             105.92  32.5     never smoked   \n",
       "3        Private          Urban             171.23  34.4           smokes   \n",
       "4  Self-employed          Rural             174.12  24.0     never smoked   \n",
       "\n",
       "   stroke  \n",
       "0       1  \n",
       "1       1  \n",
       "2       1  \n",
       "3       1  \n",
       "4       1  "
      ]
     },
     "execution_count": 2,
     "metadata": {},
     "output_type": "execute_result"
    }
   ],
   "source": [
    "import pandas as pd\n",
    "\n",
    "# Loading the dataset\n",
    "data = pd.read_csv('/kaggle/input/stroke-prediction-dataset/healthcare-dataset-stroke-data.csv')\n",
    "\n",
    "# Displaying the first five rows\n",
    "data.head()"
   ]
  },
  {
   "cell_type": "markdown",
   "id": "fd9a084e",
   "metadata": {
    "papermill": {
     "duration": 0.010241,
     "end_time": "2025-05-05T18:01:58.248488",
     "exception": false,
     "start_time": "2025-05-05T18:01:58.238247",
     "status": "completed"
    },
    "tags": []
   },
   "source": [
    "**Dataset Description**\n",
    "\n",
    "The dataset contains 5110 patient records and 12 columns, including information about demographics, medical history, and stroke occurrence.\n",
    "Each column is described below:\n",
    "\n",
    "| Column Name | Description |\n",
    "|:---|:---|\n",
    "| **id** | Unique identifier for each patient |\n",
    "| **gender** | Gender of the patient (Male, Female, Other) |\n",
    "| **age** | Age of the patient (numeric) |\n",
    "| **hypertension** | 0 = No hypertension, 1 = Has hypertension |\n",
    "| **heart_disease** | 0 = No heart disease, 1 = Has heart disease |\n",
    "| **ever_married** | Yes or No |\n",
    "| **work_type** | Type of work: children, Govt_job, Never_worked, Private, Self-employed |\n",
    "| **Residence_type** | Urban or Rural |\n",
    "| **avg_glucose_level** | Average glucose level in blood (numeric) |\n",
    "| **bmi** | Body Mass Index (numeric) |\n",
    "| **smoking_status** | formerly smoked, never smoked, smokes, or Unknown |\n",
    "| **stroke** | 0 = No stroke, 1 = Stroke occurred |"
   ]
  },
  {
   "cell_type": "markdown",
   "id": "e3ba9fa3",
   "metadata": {
    "papermill": {
     "duration": 0.009793,
     "end_time": "2025-05-05T18:01:58.268391",
     "exception": false,
     "start_time": "2025-05-05T18:01:58.258598",
     "status": "completed"
    },
    "tags": []
   },
   "source": [
    "**Initial Data Summary**"
   ]
  },
  {
   "cell_type": "code",
   "execution_count": 3,
   "id": "42acb8f7",
   "metadata": {
    "execution": {
     "iopub.execute_input": "2025-05-05T18:01:58.289867Z",
     "iopub.status.busy": "2025-05-05T18:01:58.289544Z",
     "iopub.status.idle": "2025-05-05T18:01:58.302319Z",
     "shell.execute_reply": "2025-05-05T18:01:58.301361Z"
    },
    "papermill": {
     "duration": 0.025571,
     "end_time": "2025-05-05T18:01:58.303907",
     "exception": false,
     "start_time": "2025-05-05T18:01:58.278336",
     "status": "completed"
    },
    "tags": []
   },
   "outputs": [
    {
     "data": {
      "text/plain": [
       "id                     0\n",
       "gender                 0\n",
       "age                    0\n",
       "hypertension           0\n",
       "heart_disease          0\n",
       "ever_married           0\n",
       "work_type              0\n",
       "Residence_type         0\n",
       "avg_glucose_level      0\n",
       "bmi                  201\n",
       "smoking_status         0\n",
       "stroke                 0\n",
       "dtype: int64"
      ]
     },
     "execution_count": 3,
     "metadata": {},
     "output_type": "execute_result"
    }
   ],
   "source": [
    "# Checking for missing values\n",
    "data.isnull().sum()"
   ]
  },
  {
   "cell_type": "code",
   "execution_count": 4,
   "id": "31e0f16a",
   "metadata": {
    "execution": {
     "iopub.execute_input": "2025-05-05T18:01:58.326166Z",
     "iopub.status.busy": "2025-05-05T18:01:58.325849Z",
     "iopub.status.idle": "2025-05-05T18:01:58.338415Z",
     "shell.execute_reply": "2025-05-05T18:01:58.337581Z"
    },
    "papermill": {
     "duration": 0.025564,
     "end_time": "2025-05-05T18:01:58.339948",
     "exception": false,
     "start_time": "2025-05-05T18:01:58.314384",
     "status": "completed"
    },
    "tags": []
   },
   "outputs": [
    {
     "data": {
      "text/plain": [
       "stroke\n",
       "0    0.951272\n",
       "1    0.048728\n",
       "Name: proportion, dtype: float64"
      ]
     },
     "execution_count": 4,
     "metadata": {},
     "output_type": "execute_result"
    }
   ],
   "source": [
    "# Checking the distribution of the target variable\n",
    "data['stroke'].value_counts(normalize=True)"
   ]
  },
  {
   "cell_type": "markdown",
   "id": "5227af83",
   "metadata": {
    "execution": {
     "iopub.execute_input": "2025-04-29T16:55:11.303065Z",
     "iopub.status.busy": "2025-04-29T16:55:11.302169Z",
     "iopub.status.idle": "2025-04-29T16:55:11.308863Z",
     "shell.execute_reply": "2025-04-29T16:55:11.307783Z",
     "shell.execute_reply.started": "2025-04-29T16:55:11.303037Z"
    },
    "papermill": {
     "duration": 0.009992,
     "end_time": "2025-05-05T18:01:58.360346",
     "exception": false,
     "start_time": "2025-05-05T18:01:58.350354",
     "status": "completed"
    },
    "tags": []
   },
   "source": [
    "**Findings,**\n",
    "\n",
    "1. Some missing values exist, especially in the **BMI column**.\n",
    "\n",
    "2. The **\"smoking_status\"** column includes an **\"Unknown\" category**, which will need special handling.\n",
    "\n",
    "3. The dataset is highly **imbalanced**, with only about **5%** of patients having had a stroke."
   ]
  },
  {
   "cell_type": "markdown",
   "id": "b9f51b3f",
   "metadata": {
    "papermill": {
     "duration": 0.010007,
     "end_time": "2025-05-05T18:01:58.381107",
     "exception": false,
     "start_time": "2025-05-05T18:01:58.371100",
     "status": "completed"
    },
    "tags": []
   },
   "source": [
    "# **3. Data Cleaning**\n",
    "\n",
    "In this section, we address missing values and prepare the dataset for further analysis."
   ]
  },
  {
   "cell_type": "markdown",
   "id": "7835e28c",
   "metadata": {
    "papermill": {
     "duration": 0.00997,
     "end_time": "2025-05-05T18:01:58.401243",
     "exception": false,
     "start_time": "2025-05-05T18:01:58.391273",
     "status": "completed"
    },
    "tags": []
   },
   "source": [
    "**Handling Missing Values**"
   ]
  },
  {
   "cell_type": "code",
   "execution_count": 5,
   "id": "3dd56cd0",
   "metadata": {
    "execution": {
     "iopub.execute_input": "2025-05-05T18:01:58.422800Z",
     "iopub.status.busy": "2025-05-05T18:01:58.422510Z",
     "iopub.status.idle": "2025-05-05T18:01:58.441352Z",
     "shell.execute_reply": "2025-05-05T18:01:58.440353Z"
    },
    "papermill": {
     "duration": 0.031588,
     "end_time": "2025-05-05T18:01:58.442959",
     "exception": false,
     "start_time": "2025-05-05T18:01:58.411371",
     "status": "completed"
    },
    "tags": []
   },
   "outputs": [
    {
     "data": {
      "text/plain": [
       "(3566, 12)"
      ]
     },
     "execution_count": 5,
     "metadata": {},
     "output_type": "execute_result"
    }
   ],
   "source": [
    "# Imputing median by age group\n",
    "data['bmi'] = data['bmi'].fillna(data.groupby('age')['bmi'].transform('median'))\n",
    "\n",
    "# Removing rows where smoking_status is \"Unknown\"\n",
    "data = data[data['smoking_status'] != 'Unknown']\n",
    "\n",
    "data.shape"
   ]
  },
  {
   "cell_type": "code",
   "execution_count": 6,
   "id": "6f964f0f",
   "metadata": {
    "execution": {
     "iopub.execute_input": "2025-05-05T18:01:58.465622Z",
     "iopub.status.busy": "2025-05-05T18:01:58.465318Z",
     "iopub.status.idle": "2025-05-05T18:01:58.474304Z",
     "shell.execute_reply": "2025-05-05T18:01:58.473072Z"
    },
    "papermill": {
     "duration": 0.022524,
     "end_time": "2025-05-05T18:01:58.475994",
     "exception": false,
     "start_time": "2025-05-05T18:01:58.453470",
     "status": "completed"
    },
    "tags": []
   },
   "outputs": [
    {
     "data": {
      "text/plain": [
       "id                   0\n",
       "gender               0\n",
       "age                  0\n",
       "hypertension         0\n",
       "heart_disease        0\n",
       "ever_married         0\n",
       "work_type            0\n",
       "Residence_type       0\n",
       "avg_glucose_level    0\n",
       "bmi                  0\n",
       "smoking_status       0\n",
       "stroke               0\n",
       "dtype: int64"
      ]
     },
     "execution_count": 6,
     "metadata": {},
     "output_type": "execute_result"
    }
   ],
   "source": [
    "# Checking again for missing values\n",
    "data.isnull().sum()"
   ]
  },
  {
   "cell_type": "code",
   "execution_count": 7,
   "id": "1d3a7063",
   "metadata": {
    "execution": {
     "iopub.execute_input": "2025-05-05T18:01:58.498712Z",
     "iopub.status.busy": "2025-05-05T18:01:58.498361Z",
     "iopub.status.idle": "2025-05-05T18:01:58.505887Z",
     "shell.execute_reply": "2025-05-05T18:01:58.504971Z"
    },
    "papermill": {
     "duration": 0.020513,
     "end_time": "2025-05-05T18:01:58.507529",
     "exception": false,
     "start_time": "2025-05-05T18:01:58.487016",
     "status": "completed"
    },
    "tags": []
   },
   "outputs": [
    {
     "data": {
      "text/plain": [
       "stroke\n",
       "0    0.943354\n",
       "1    0.056646\n",
       "Name: proportion, dtype: float64"
      ]
     },
     "execution_count": 7,
     "metadata": {},
     "output_type": "execute_result"
    }
   ],
   "source": [
    "# Checking the stroke distribution again\n",
    "data['stroke'].value_counts(normalize=True)"
   ]
  },
  {
   "cell_type": "markdown",
   "id": "e6d50a79",
   "metadata": {
    "papermill": {
     "duration": 0.010627,
     "end_time": "2025-05-05T18:01:58.529325",
     "exception": false,
     "start_time": "2025-05-05T18:01:58.518698",
     "status": "completed"
    },
    "tags": []
   },
   "source": [
    "**Findings:**\n",
    "\n",
    "The class imbalance remains; strokes still account for a small minority of cases (~5%), which we will address later during model training."
   ]
  },
  {
   "cell_type": "markdown",
   "id": "39cc6e4a",
   "metadata": {
    "papermill": {
     "duration": 0.010818,
     "end_time": "2025-05-05T18:01:58.551094",
     "exception": false,
     "start_time": "2025-05-05T18:01:58.540276",
     "status": "completed"
    },
    "tags": []
   },
   "source": [
    "# **4. Feature Selection**\n",
    "\n",
    "In this section, we select the most relevant features for stroke prediction based on medical research and domain knowledge."
   ]
  },
  {
   "cell_type": "markdown",
   "id": "1360afee",
   "metadata": {
    "papermill": {
     "duration": 0.010429,
     "end_time": "2025-05-05T18:01:58.572147",
     "exception": false,
     "start_time": "2025-05-05T18:01:58.561718",
     "status": "completed"
    },
    "tags": []
   },
   "source": [
    "**Choosing Relevant Features**\n",
    "\n",
    "Following guidance from the medical team and supported by **(Stroke risk factors and prevention, n.d.)**, the following features are known to have a significant impact on stroke risk:\n",
    "\n",
    "| Feature | Reason for Selection |\n",
    "|:---|:---|\n",
    "| **age** | Stroke risk increases significantly with age. |\n",
    "| **hypertension** | High blood pressure is a leading risk factor for stroke. |\n",
    "| **heart_disease** | Existing heart conditions are linked to higher stroke risk. |\n",
    "| **avg_glucose_level** | Elevated glucose levels can indicate diabetes, increasing stroke risk. |\n",
    "| **bmi** | Obesity is a major stroke risk factor. |\n",
    "| **smoking_status** | Smoking significantly raises the risk of stroke. |\n",
    "| **gender** | Some studies show gender-based differences in stroke incidence. |"
   ]
  },
  {
   "cell_type": "markdown",
   "id": "185e1be1",
   "metadata": {
    "papermill": {
     "duration": 0.01029,
     "end_time": "2025-05-05T18:01:58.658161",
     "exception": false,
     "start_time": "2025-05-05T18:01:58.647871",
     "status": "completed"
    },
    "tags": []
   },
   "source": [
    "However, we would like to ensure that our feature selection is accurate, by some visuals"
   ]
  },
  {
   "cell_type": "code",
   "execution_count": 8,
   "id": "dfdc74e7",
   "metadata": {
    "execution": {
     "iopub.execute_input": "2025-05-05T18:01:58.680978Z",
     "iopub.status.busy": "2025-05-05T18:01:58.680651Z",
     "iopub.status.idle": "2025-05-05T18:01:58.694723Z",
     "shell.execute_reply": "2025-05-05T18:01:58.693802Z"
    },
    "papermill": {
     "duration": 0.027606,
     "end_time": "2025-05-05T18:01:58.696251",
     "exception": false,
     "start_time": "2025-05-05T18:01:58.668645",
     "status": "completed"
    },
    "tags": []
   },
   "outputs": [
    {
     "data": {
      "text/html": [
       "<div>\n",
       "<style scoped>\n",
       "    .dataframe tbody tr th:only-of-type {\n",
       "        vertical-align: middle;\n",
       "    }\n",
       "\n",
       "    .dataframe tbody tr th {\n",
       "        vertical-align: top;\n",
       "    }\n",
       "\n",
       "    .dataframe thead th {\n",
       "        text-align: right;\n",
       "    }\n",
       "</style>\n",
       "<table border=\"1\" class=\"dataframe\">\n",
       "  <thead>\n",
       "    <tr style=\"text-align: right;\">\n",
       "      <th></th>\n",
       "      <th>gender</th>\n",
       "      <th>age</th>\n",
       "      <th>hypertension</th>\n",
       "      <th>heart_disease</th>\n",
       "      <th>avg_glucose_level</th>\n",
       "      <th>bmi</th>\n",
       "      <th>smoking_status</th>\n",
       "      <th>stroke</th>\n",
       "    </tr>\n",
       "  </thead>\n",
       "  <tbody>\n",
       "    <tr>\n",
       "      <th>0</th>\n",
       "      <td>Male</td>\n",
       "      <td>67.0</td>\n",
       "      <td>0</td>\n",
       "      <td>1</td>\n",
       "      <td>228.69</td>\n",
       "      <td>36.60</td>\n",
       "      <td>formerly smoked</td>\n",
       "      <td>1</td>\n",
       "    </tr>\n",
       "    <tr>\n",
       "      <th>1</th>\n",
       "      <td>Female</td>\n",
       "      <td>61.0</td>\n",
       "      <td>0</td>\n",
       "      <td>0</td>\n",
       "      <td>202.21</td>\n",
       "      <td>29.45</td>\n",
       "      <td>never smoked</td>\n",
       "      <td>1</td>\n",
       "    </tr>\n",
       "    <tr>\n",
       "      <th>2</th>\n",
       "      <td>Male</td>\n",
       "      <td>80.0</td>\n",
       "      <td>0</td>\n",
       "      <td>1</td>\n",
       "      <td>105.92</td>\n",
       "      <td>32.50</td>\n",
       "      <td>never smoked</td>\n",
       "      <td>1</td>\n",
       "    </tr>\n",
       "    <tr>\n",
       "      <th>3</th>\n",
       "      <td>Female</td>\n",
       "      <td>49.0</td>\n",
       "      <td>0</td>\n",
       "      <td>0</td>\n",
       "      <td>171.23</td>\n",
       "      <td>34.40</td>\n",
       "      <td>smokes</td>\n",
       "      <td>1</td>\n",
       "    </tr>\n",
       "    <tr>\n",
       "      <th>4</th>\n",
       "      <td>Female</td>\n",
       "      <td>79.0</td>\n",
       "      <td>1</td>\n",
       "      <td>0</td>\n",
       "      <td>174.12</td>\n",
       "      <td>24.00</td>\n",
       "      <td>never smoked</td>\n",
       "      <td>1</td>\n",
       "    </tr>\n",
       "  </tbody>\n",
       "</table>\n",
       "</div>"
      ],
      "text/plain": [
       "   gender   age  hypertension  heart_disease  avg_glucose_level    bmi  \\\n",
       "0    Male  67.0             0              1             228.69  36.60   \n",
       "1  Female  61.0             0              0             202.21  29.45   \n",
       "2    Male  80.0             0              1             105.92  32.50   \n",
       "3  Female  49.0             0              0             171.23  34.40   \n",
       "4  Female  79.0             1              0             174.12  24.00   \n",
       "\n",
       "    smoking_status  stroke  \n",
       "0  formerly smoked       1  \n",
       "1     never smoked       1  \n",
       "2     never smoked       1  \n",
       "3           smokes       1  \n",
       "4     never smoked       1  "
      ]
     },
     "execution_count": 8,
     "metadata": {},
     "output_type": "execute_result"
    }
   ],
   "source": [
    "selected_features = ['gender', 'age', 'hypertension', 'heart_disease', \n",
    "                    'avg_glucose_level', \n",
    "                     'bmi', 'smoking_status', 'stroke']\n",
    "\n",
    "# Creating a new DataFrame with only the selected features\n",
    "data_selected = data[selected_features]\n",
    "\n",
    "# Displaying the first few rows\n",
    "data_selected.head()"
   ]
  },
  {
   "cell_type": "markdown",
   "id": "9c27c54d",
   "metadata": {
    "papermill": {
     "duration": 0.010634,
     "end_time": "2025-05-05T18:01:58.717763",
     "exception": false,
     "start_time": "2025-05-05T18:01:58.707129",
     "status": "completed"
    },
    "tags": []
   },
   "source": [
    "**Visual Support for Feature Selection (EDA)**"
   ]
  },
  {
   "cell_type": "code",
   "execution_count": 9,
   "id": "63fe4158",
   "metadata": {
    "execution": {
     "iopub.execute_input": "2025-05-05T18:01:58.740283Z",
     "iopub.status.busy": "2025-05-05T18:01:58.739929Z",
     "iopub.status.idle": "2025-05-05T18:02:00.902025Z",
     "shell.execute_reply": "2025-05-05T18:02:00.901170Z"
    },
    "papermill": {
     "duration": 2.175131,
     "end_time": "2025-05-05T18:02:00.903560",
     "exception": false,
     "start_time": "2025-05-05T18:01:58.728429",
     "status": "completed"
    },
    "tags": []
   },
   "outputs": [
    {
     "data": {
      "image/png": "[encoded data removed]",
      "text/plain": [
       "<Figure size 640x480 with 1 Axes>"
      ]
     },
     "metadata": {},
     "output_type": "display_data"
    }
   ],
   "source": [
    "import seaborn as sns\n",
    "import matplotlib.pyplot as plt\n",
    "\n",
    "sns.boxplot(x='stroke', y='age', data=data_selected)\n",
    "plt.title('Age Distribution by Stroke Outcome')\n",
    "plt.show()"
   ]
  },
  {
   "cell_type": "markdown",
   "id": "54a831f3",
   "metadata": {
    "papermill": {
     "duration": 0.011267,
     "end_time": "2025-05-05T18:02:00.926438",
     "exception": false,
     "start_time": "2025-05-05T18:02:00.915171",
     "status": "completed"
    },
    "tags": []
   },
   "source": [
    "The boxplot shows that **age** strongly separates stroke vs. non-stroke patients: stroke cases have a **median age over 60**, while non-stroke patients are **younger and more varied**. This confirms age as a **key risk factor** and supports its use in our model."
   ]
  },
  {
   "cell_type": "code",
   "execution_count": 10,
   "id": "4d787068",
   "metadata": {
    "execution": {
     "iopub.execute_input": "2025-05-05T18:02:00.950161Z",
     "iopub.status.busy": "2025-05-05T18:02:00.949707Z",
     "iopub.status.idle": "2025-05-05T18:02:01.210972Z",
     "shell.execute_reply": "2025-05-05T18:02:01.210060Z"
    },
    "papermill": {
     "duration": 0.275244,
     "end_time": "2025-05-05T18:02:01.212718",
     "exception": false,
     "start_time": "2025-05-05T18:02:00.937474",
     "status": "completed"
    },
    "tags": []
   },
   "outputs": [
    {
     "data": {
      "image/png": "[encoded data removed]",
      "text/plain": [
       "<Figure size 640x480 with 1 Axes>"
      ]
     },
     "metadata": {},
     "output_type": "display_data"
    }
   ],
   "source": [
    "sns.countplot(x='hypertension', hue='stroke', data=data_selected)\n",
    "plt.title('Hypertension vs Stroke')\n",
    "plt.show()"
   ]
  },
  {
   "cell_type": "markdown",
   "id": "5d7f3fbf",
   "metadata": {
    "papermill": {
     "duration": 0.011822,
     "end_time": "2025-05-05T18:02:01.236617",
     "exception": false,
     "start_time": "2025-05-05T18:02:01.224795",
     "status": "completed"
    },
    "tags": []
   },
   "source": [
    "The countplot shows that **hypertensive patients have a higher stroke rate**: even though there are fewer of them overall, a larger share of hypertensive individuals experienced strokes compared to those without hypertension. This confirms hypertension as a **key modifiable risk factor** and supports its inclusion in our model."
   ]
  },
  {
   "cell_type": "markdown",
   "id": "38ca611e",
   "metadata": {
    "papermill": {
     "duration": 0.011232,
     "end_time": "2025-05-05T18:02:01.259736",
     "exception": false,
     "start_time": "2025-05-05T18:02:01.248504",
     "status": "completed"
    },
    "tags": []
   },
   "source": [
    "# **5. Feature Engineering**"
   ]
  },
  {
   "cell_type": "markdown",
   "id": "e48fde8e",
   "metadata": {
    "papermill": {
     "duration": 0.012014,
     "end_time": "2025-05-05T18:02:01.283651",
     "exception": false,
     "start_time": "2025-05-05T18:02:01.271637",
     "status": "completed"
    },
    "tags": []
   },
   "source": [
    "We engineered features to boost model performance and reflect clinical practice by converting continuous variables into meaningful categories, simplifying complex features, and creating new interaction variables."
   ]
  },
  {
   "cell_type": "markdown",
   "id": "4c04d832",
   "metadata": {
    "papermill": {
     "duration": 0.011447,
     "end_time": "2025-05-05T18:02:01.306622",
     "exception": false,
     "start_time": "2025-05-05T18:02:01.295175",
     "status": "completed"
    },
    "tags": []
   },
   "source": [
    "**5.1 Categorizing Age**\n",
    "\n",
    "Medical literature suggests age-related stroke risk increases sharply in later life, as learnt from **(Park *et al.,* 2013)**. To better capture this pattern, we grouped patients into clinically relevant age bands, using the age ranges reported in the research by **(Yao *et al.,* 2012)**."
   ]
  },
  {
   "cell_type": "code",
   "execution_count": 11,
   "id": "aed18783",
   "metadata": {
    "execution": {
     "iopub.execute_input": "2025-05-05T18:02:01.333860Z",
     "iopub.status.busy": "2025-05-05T18:02:01.333544Z",
     "iopub.status.idle": "2025-05-05T18:02:01.341597Z",
     "shell.execute_reply": "2025-05-05T18:02:01.340867Z"
    },
    "papermill": {
     "duration": 0.022961,
     "end_time": "2025-05-05T18:02:01.342980",
     "exception": false,
     "start_time": "2025-05-05T18:02:01.320019",
     "status": "completed"
    },
    "tags": []
   },
   "outputs": [],
   "source": [
    "data_selected = data_selected.copy()\n",
    "\n",
    "def categorize_age(age):\n",
    "    if age < 50:\n",
    "        return 'young_adult'\n",
    "    elif 50 <= age <= 80:\n",
    "        return 'middle_aged'\n",
    "    else:\n",
    "        return 'very_old'\n",
    "\n",
    "data_selected['age_group'] = data_selected['age'].apply(categorize_age)"
   ]
  },
  {
   "cell_type": "markdown",
   "id": "8ad4b451",
   "metadata": {
    "papermill": {
     "duration": 0.011056,
     "end_time": "2025-05-05T18:02:01.365587",
     "exception": false,
     "start_time": "2025-05-05T18:02:01.354531",
     "status": "completed"
    },
    "tags": []
   },
   "source": [
    " **5.2 Categorizing BMI & Glucose**\n",
    " \n",
    "We learned from **Centers for Disease Control and Prevention, 2024** that BMI and glucose are continuous variables with medically defined thresholds that indicate risk groups. Therefore, we transformed these variables into standard categories."
   ]
  },
  {
   "cell_type": "code",
   "execution_count": 12,
   "id": "d29a65a8",
   "metadata": {
    "execution": {
     "iopub.execute_input": "2025-05-05T18:02:01.390770Z",
     "iopub.status.busy": "2025-05-05T18:02:01.390467Z",
     "iopub.status.idle": "2025-05-05T18:02:01.398513Z",
     "shell.execute_reply": "2025-05-05T18:02:01.397558Z"
    },
    "papermill": {
     "duration": 0.02281,
     "end_time": "2025-05-05T18:02:01.400047",
     "exception": false,
     "start_time": "2025-05-05T18:02:01.377237",
     "status": "completed"
    },
    "tags": []
   },
   "outputs": [],
   "source": [
    "def categorize_bmi(bmi):\n",
    "    if bmi < 18.5:\n",
    "        return 'bmi_0_underweight'\n",
    "    elif 18.5 <= bmi < 25:\n",
    "        return 'bmi_1_healthy'\n",
    "    elif 25 <= bmi < 30:\n",
    "        return 'bmi_2_overweight'\n",
    "    elif 30 <= bmi < 35:\n",
    "        return 'bmi_3_obesity_class_1'\n",
    "    elif 35 <= bmi < 40:\n",
    "        return 'bmi_4_obesity_class_2'\n",
    "    else:\n",
    "        return 'bmi_5_obesity_class_3'\n",
    "\n",
    "data_selected['bmi_category'] = data_selected['bmi'].apply(categorize_bmi)"
   ]
  },
  {
   "cell_type": "code",
   "execution_count": 13,
   "id": "38f3fbc3",
   "metadata": {
    "execution": {
     "iopub.execute_input": "2025-05-05T18:02:01.424981Z",
     "iopub.status.busy": "2025-05-05T18:02:01.424671Z",
     "iopub.status.idle": "2025-05-05T18:02:01.435232Z",
     "shell.execute_reply": "2025-05-05T18:02:01.434338Z"
    },
    "papermill": {
     "duration": 0.02471,
     "end_time": "2025-05-05T18:02:01.436784",
     "exception": false,
     "start_time": "2025-05-05T18:02:01.412074",
     "status": "completed"
    },
    "tags": []
   },
   "outputs": [],
   "source": [
    "import numpy as np \n",
    "\n",
    "def glucose_category(glucose):\n",
    "    if glucose < 70:\n",
    "        return 'glucose_0_<70'\n",
    "    elif 70 <= glucose <= 84:\n",
    "        return 'glucose_1_70_84'\n",
    "    elif 85 <= glucose <= 99:\n",
    "        return 'glucose_2_85_99'\n",
    "    elif 100 <= glucose <= 109:\n",
    "        return 'glucose_3_100_109'\n",
    "    elif 110 <= glucose <= 125:\n",
    "        return 'glucose_4_110_125'\n",
    "    elif 126 <= glucose <= 139:\n",
    "        return 'glucose_5_126_139'\n",
    "    else:\n",
    "        return 'glucose_6_140_plus'\n",
    "\n",
    "# Applying glucose category\n",
    "data_selected['glucose_category'] = data_selected['avg_glucose_level'].apply(glucose_category)\n",
    "# Dropping the original column once\n",
    "data_selected.drop('avg_glucose_level', axis=1, inplace=True)"
   ]
  },
  {
   "cell_type": "markdown",
   "id": "85f55297",
   "metadata": {
    "papermill": {
     "duration": 0.011285,
     "end_time": "2025-05-05T18:02:01.459862",
     "exception": false,
     "start_time": "2025-05-05T18:02:01.448577",
     "status": "completed"
    },
    "tags": []
   },
   "source": [
    " **5.3 Binary Smoking Status**\n",
    "\n",
    "To reduce complexity and highlight overall exposure, this is the ordinal encode of smoking status"
   ]
  },
  {
   "cell_type": "code",
   "execution_count": 14,
   "id": "deccd235",
   "metadata": {
    "execution": {
     "iopub.execute_input": "2025-05-05T18:02:01.484890Z",
     "iopub.status.busy": "2025-05-05T18:02:01.484591Z",
     "iopub.status.idle": "2025-05-05T18:02:01.491189Z",
     "shell.execute_reply": "2025-05-05T18:02:01.490486Z"
    },
    "papermill": {
     "duration": 0.020855,
     "end_time": "2025-05-05T18:02:01.492639",
     "exception": false,
     "start_time": "2025-05-05T18:02:01.471784",
     "status": "completed"
    },
    "tags": []
   },
   "outputs": [],
   "source": [
    "smoking_mapping = {\n",
    "    'never smoked': 0,\n",
    "    'formerly smoked': 1,\n",
    "    'smokes': 2\n",
    "}\n",
    "data_selected['smoking_status_encoded'] = data_selected['smoking_status'].map(smoking_mapping)"
   ]
  },
  {
   "cell_type": "markdown",
   "id": "f8e7b08b",
   "metadata": {
    "papermill": {
     "duration": 0.011292,
     "end_time": "2025-05-05T18:02:01.515746",
     "exception": false,
     "start_time": "2025-05-05T18:02:01.504454",
     "status": "completed"
    },
    "tags": []
   },
   "source": [
    "**5.4 Creating Risk Indicators & Interactions**\n",
    "\n",
    "We created new features that combines hypertension with heart disease and age status into seperate risk indicators and encoded glucose and BMI categories numerically, created interaction features (glucose × age, glucose × BMI), and added binary flags (`is_elderly`, `is_obese`, `high_glucose`) to highlight key stroke risk patterns.\n"
   ]
  },
  {
   "cell_type": "code",
   "execution_count": 15,
   "id": "0c7c0daa",
   "metadata": {
    "execution": {
     "iopub.execute_input": "2025-05-05T18:02:01.540304Z",
     "iopub.status.busy": "2025-05-05T18:02:01.539929Z",
     "iopub.status.idle": "2025-05-05T18:02:01.545428Z",
     "shell.execute_reply": "2025-05-05T18:02:01.544575Z"
    },
    "papermill": {
     "duration": 0.019613,
     "end_time": "2025-05-05T18:02:01.547049",
     "exception": false,
     "start_time": "2025-05-05T18:02:01.527436",
     "status": "completed"
    },
    "tags": []
   },
   "outputs": [],
   "source": [
    "data_selected['health_risk'] = data_selected['hypertension'] + data_selected['heart_disease']\n",
    "# 0 = no risk, 1 = moderate risk, 2 = high risk"
   ]
  },
  {
   "cell_type": "code",
   "execution_count": 16,
   "id": "33f9ff4e",
   "metadata": {
    "execution": {
     "iopub.execute_input": "2025-05-05T18:02:01.571156Z",
     "iopub.status.busy": "2025-05-05T18:02:01.570856Z",
     "iopub.status.idle": "2025-05-05T18:02:01.576524Z",
     "shell.execute_reply": "2025-05-05T18:02:01.575657Z"
    },
    "papermill": {
     "duration": 0.019353,
     "end_time": "2025-05-05T18:02:01.577939",
     "exception": false,
     "start_time": "2025-05-05T18:02:01.558586",
     "status": "completed"
    },
    "tags": []
   },
   "outputs": [],
   "source": [
    "data_selected['lifestyle_risk'] = data_selected['smoking_status_encoded'] + data_selected['health_risk']"
   ]
  },
  {
   "cell_type": "code",
   "execution_count": 17,
   "id": "27b37593",
   "metadata": {
    "execution": {
     "iopub.execute_input": "2025-05-05T18:02:01.602405Z",
     "iopub.status.busy": "2025-05-05T18:02:01.602064Z",
     "iopub.status.idle": "2025-05-05T18:02:01.607606Z",
     "shell.execute_reply": "2025-05-05T18:02:01.606689Z"
    },
    "papermill": {
     "duration": 0.019816,
     "end_time": "2025-05-05T18:02:01.609409",
     "exception": false,
     "start_time": "2025-05-05T18:02:01.589593",
     "status": "completed"
    },
    "tags": []
   },
   "outputs": [],
   "source": [
    "data_selected['total_risk'] = data_selected['health_risk'] + data_selected['lifestyle_risk']"
   ]
  },
  {
   "cell_type": "code",
   "execution_count": 18,
   "id": "67031bad",
   "metadata": {
    "execution": {
     "iopub.execute_input": "2025-05-05T18:02:01.634471Z",
     "iopub.status.busy": "2025-05-05T18:02:01.634101Z",
     "iopub.status.idle": "2025-05-05T18:02:01.640470Z",
     "shell.execute_reply": "2025-05-05T18:02:01.639767Z"
    },
    "papermill": {
     "duration": 0.020537,
     "end_time": "2025-05-05T18:02:01.641891",
     "exception": false,
     "start_time": "2025-05-05T18:02:01.621354",
     "status": "completed"
    },
    "tags": []
   },
   "outputs": [],
   "source": [
    "glucose_mapping = {\n",
    "    'glucose_0_<70': 0,\n",
    "    'glucose_1_70_84': 1,\n",
    "    'glucose_2_85_99': 2, \n",
    "    'glucose_3_100_109': 3,\n",
    "    'glucose_4_110_125': 4,\n",
    "    'glucose_5_126_139': 5,\n",
    "    'glucose_6_140_plus': 6\n",
    "}\n",
    "\n",
    "data_selected['glucose_category_encoded'] = data_selected['glucose_category'].map(glucose_mapping)"
   ]
  },
  {
   "cell_type": "code",
   "execution_count": 19,
   "id": "df331d90",
   "metadata": {
    "execution": {
     "iopub.execute_input": "2025-05-05T18:02:01.668846Z",
     "iopub.status.busy": "2025-05-05T18:02:01.668535Z",
     "iopub.status.idle": "2025-05-05T18:02:01.674939Z",
     "shell.execute_reply": "2025-05-05T18:02:01.674052Z"
    },
    "papermill": {
     "duration": 0.021701,
     "end_time": "2025-05-05T18:02:01.676401",
     "exception": false,
     "start_time": "2025-05-05T18:02:01.654700",
     "status": "completed"
    },
    "tags": []
   },
   "outputs": [],
   "source": [
    "bmi_mapping = {\n",
    "    'bmi_0_underweight': 0,\n",
    "    'bmi_1_healthy': 1,\n",
    "    'bmi_2_overweight': 2,\n",
    "    'bmi_3_obesity_class_1': 3,\n",
    "    'bmi_4_obesity_class_2': 4,\n",
    "    'bmi_5_obesity_class_3': 5\n",
    "}\n",
    "\n",
    "data_selected['bmi_category_encoded'] = data_selected['bmi_category'].map(bmi_mapping)"
   ]
  },
  {
   "cell_type": "code",
   "execution_count": 20,
   "id": "3b15f0a1",
   "metadata": {
    "execution": {
     "iopub.execute_input": "2025-05-05T18:02:01.701306Z",
     "iopub.status.busy": "2025-05-05T18:02:01.700934Z",
     "iopub.status.idle": "2025-05-05T18:02:01.707147Z",
     "shell.execute_reply": "2025-05-05T18:02:01.706470Z"
    },
    "papermill": {
     "duration": 0.020594,
     "end_time": "2025-05-05T18:02:01.708491",
     "exception": false,
     "start_time": "2025-05-05T18:02:01.687897",
     "status": "completed"
    },
    "tags": []
   },
   "outputs": [],
   "source": [
    "data_selected['age_glucose_interaction'] = data_selected['glucose_category_encoded'] * data_selected['age']\n",
    "data_selected['bmi_glucose_interaction'] = data_selected['glucose_category_encoded'] * data_selected['bmi_category_encoded']"
   ]
  },
  {
   "cell_type": "code",
   "execution_count": 21,
   "id": "96cf32c0",
   "metadata": {
    "execution": {
     "iopub.execute_input": "2025-05-05T18:02:01.734467Z",
     "iopub.status.busy": "2025-05-05T18:02:01.733712Z",
     "iopub.status.idle": "2025-05-05T18:02:01.744953Z",
     "shell.execute_reply": "2025-05-05T18:02:01.743920Z"
    },
    "papermill": {
     "duration": 0.026097,
     "end_time": "2025-05-05T18:02:01.746665",
     "exception": false,
     "start_time": "2025-05-05T18:02:01.720568",
     "status": "completed"
    },
    "tags": []
   },
   "outputs": [],
   "source": [
    "data_selected['is_elderly'] = (data_selected['age'] > 80).astype(int)\n",
    "data_selected['is_obese'] = data_selected['bmi_category'].str.contains('obesity').astype(int)\n",
    "data_selected['high_glucose'] = data_selected['glucose_category'].str.contains('140').astype(int)"
   ]
  },
  {
   "cell_type": "markdown",
   "id": "50368251",
   "metadata": {
    "papermill": {
     "duration": 0.01192,
     "end_time": "2025-05-05T18:02:01.770302",
     "exception": false,
     "start_time": "2025-05-05T18:02:01.758382",
     "status": "completed"
    },
    "tags": []
   },
   "source": [
    "**5.5 Encoding Categorical Variables**\n",
    "\n",
    "To prepare the dataset for machine learning, all categorical features were encoded using one-hot encoding:"
   ]
  },
  {
   "cell_type": "code",
   "execution_count": 22,
   "id": "5a7b47da",
   "metadata": {
    "execution": {
     "iopub.execute_input": "2025-05-05T18:02:01.794360Z",
     "iopub.status.busy": "2025-05-05T18:02:01.794009Z",
     "iopub.status.idle": "2025-05-05T18:02:01.825725Z",
     "shell.execute_reply": "2025-05-05T18:02:01.824777Z"
    },
    "papermill": {
     "duration": 0.045684,
     "end_time": "2025-05-05T18:02:01.827351",
     "exception": false,
     "start_time": "2025-05-05T18:02:01.781667",
     "status": "completed"
    },
    "tags": []
   },
   "outputs": [
    {
     "data": {
      "text/html": [
       "<div>\n",
       "<style scoped>\n",
       "    .dataframe tbody tr th:only-of-type {\n",
       "        vertical-align: middle;\n",
       "    }\n",
       "\n",
       "    .dataframe tbody tr th {\n",
       "        vertical-align: top;\n",
       "    }\n",
       "\n",
       "    .dataframe thead th {\n",
       "        text-align: right;\n",
       "    }\n",
       "</style>\n",
       "<table border=\"1\" class=\"dataframe\">\n",
       "  <thead>\n",
       "    <tr style=\"text-align: right;\">\n",
       "      <th></th>\n",
       "      <th>age</th>\n",
       "      <th>hypertension</th>\n",
       "      <th>heart_disease</th>\n",
       "      <th>bmi</th>\n",
       "      <th>stroke</th>\n",
       "      <th>smoking_status_encoded</th>\n",
       "      <th>health_risk</th>\n",
       "      <th>lifestyle_risk</th>\n",
       "      <th>total_risk</th>\n",
       "      <th>glucose_category_encoded</th>\n",
       "      <th>...</th>\n",
       "      <th>glucose_category_glucose_4_110_125</th>\n",
       "      <th>glucose_category_glucose_5_126_139</th>\n",
       "      <th>glucose_category_glucose_6_140_plus</th>\n",
       "      <th>bmi_category_bmi_1_healthy</th>\n",
       "      <th>bmi_category_bmi_2_overweight</th>\n",
       "      <th>bmi_category_bmi_3_obesity_class_1</th>\n",
       "      <th>bmi_category_bmi_4_obesity_class_2</th>\n",
       "      <th>bmi_category_bmi_5_obesity_class_3</th>\n",
       "      <th>smoking_status_never smoked</th>\n",
       "      <th>smoking_status_smokes</th>\n",
       "    </tr>\n",
       "  </thead>\n",
       "  <tbody>\n",
       "    <tr>\n",
       "      <th>0</th>\n",
       "      <td>67.0</td>\n",
       "      <td>0</td>\n",
       "      <td>1</td>\n",
       "      <td>36.60</td>\n",
       "      <td>1</td>\n",
       "      <td>1</td>\n",
       "      <td>1</td>\n",
       "      <td>2</td>\n",
       "      <td>3</td>\n",
       "      <td>6</td>\n",
       "      <td>...</td>\n",
       "      <td>False</td>\n",
       "      <td>False</td>\n",
       "      <td>True</td>\n",
       "      <td>False</td>\n",
       "      <td>False</td>\n",
       "      <td>False</td>\n",
       "      <td>True</td>\n",
       "      <td>False</td>\n",
       "      <td>False</td>\n",
       "      <td>False</td>\n",
       "    </tr>\n",
       "    <tr>\n",
       "      <th>1</th>\n",
       "      <td>61.0</td>\n",
       "      <td>0</td>\n",
       "      <td>0</td>\n",
       "      <td>29.45</td>\n",
       "      <td>1</td>\n",
       "      <td>0</td>\n",
       "      <td>0</td>\n",
       "      <td>0</td>\n",
       "      <td>0</td>\n",
       "      <td>6</td>\n",
       "      <td>...</td>\n",
       "      <td>False</td>\n",
       "      <td>False</td>\n",
       "      <td>True</td>\n",
       "      <td>False</td>\n",
       "      <td>True</td>\n",
       "      <td>False</td>\n",
       "      <td>False</td>\n",
       "      <td>False</td>\n",
       "      <td>True</td>\n",
       "      <td>False</td>\n",
       "    </tr>\n",
       "    <tr>\n",
       "      <th>2</th>\n",
       "      <td>80.0</td>\n",
       "      <td>0</td>\n",
       "      <td>1</td>\n",
       "      <td>32.50</td>\n",
       "      <td>1</td>\n",
       "      <td>0</td>\n",
       "      <td>1</td>\n",
       "      <td>1</td>\n",
       "      <td>2</td>\n",
       "      <td>3</td>\n",
       "      <td>...</td>\n",
       "      <td>False</td>\n",
       "      <td>False</td>\n",
       "      <td>False</td>\n",
       "      <td>False</td>\n",
       "      <td>False</td>\n",
       "      <td>True</td>\n",
       "      <td>False</td>\n",
       "      <td>False</td>\n",
       "      <td>True</td>\n",
       "      <td>False</td>\n",
       "    </tr>\n",
       "    <tr>\n",
       "      <th>3</th>\n",
       "      <td>49.0</td>\n",
       "      <td>0</td>\n",
       "      <td>0</td>\n",
       "      <td>34.40</td>\n",
       "      <td>1</td>\n",
       "      <td>2</td>\n",
       "      <td>0</td>\n",
       "      <td>2</td>\n",
       "      <td>2</td>\n",
       "      <td>6</td>\n",
       "      <td>...</td>\n",
       "      <td>False</td>\n",
       "      <td>False</td>\n",
       "      <td>True</td>\n",
       "      <td>False</td>\n",
       "      <td>False</td>\n",
       "      <td>True</td>\n",
       "      <td>False</td>\n",
       "      <td>False</td>\n",
       "      <td>False</td>\n",
       "      <td>True</td>\n",
       "    </tr>\n",
       "    <tr>\n",
       "      <th>4</th>\n",
       "      <td>79.0</td>\n",
       "      <td>1</td>\n",
       "      <td>0</td>\n",
       "      <td>24.00</td>\n",
       "      <td>1</td>\n",
       "      <td>0</td>\n",
       "      <td>1</td>\n",
       "      <td>1</td>\n",
       "      <td>2</td>\n",
       "      <td>6</td>\n",
       "      <td>...</td>\n",
       "      <td>False</td>\n",
       "      <td>False</td>\n",
       "      <td>True</td>\n",
       "      <td>True</td>\n",
       "      <td>False</td>\n",
       "      <td>False</td>\n",
       "      <td>False</td>\n",
       "      <td>False</td>\n",
       "      <td>True</td>\n",
       "      <td>False</td>\n",
       "    </tr>\n",
       "  </tbody>\n",
       "</table>\n",
       "<p>5 rows × 33 columns</p>\n",
       "</div>"
      ],
      "text/plain": [
       "    age  hypertension  heart_disease    bmi  stroke  smoking_status_encoded  \\\n",
       "0  67.0             0              1  36.60       1                       1   \n",
       "1  61.0             0              0  29.45       1                       0   \n",
       "2  80.0             0              1  32.50       1                       0   \n",
       "3  49.0             0              0  34.40       1                       2   \n",
       "4  79.0             1              0  24.00       1                       0   \n",
       "\n",
       "   health_risk  lifestyle_risk  total_risk  glucose_category_encoded  ...  \\\n",
       "0            1               2           3                         6  ...   \n",
       "1            0               0           0                         6  ...   \n",
       "2            1               1           2                         3  ...   \n",
       "3            0               2           2                         6  ...   \n",
       "4            1               1           2                         6  ...   \n",
       "\n",
       "   glucose_category_glucose_4_110_125  glucose_category_glucose_5_126_139  \\\n",
       "0                               False                               False   \n",
       "1                               False                               False   \n",
       "2                               False                               False   \n",
       "3                               False                               False   \n",
       "4                               False                               False   \n",
       "\n",
       "   glucose_category_glucose_6_140_plus  bmi_category_bmi_1_healthy  \\\n",
       "0                                 True                       False   \n",
       "1                                 True                       False   \n",
       "2                                False                       False   \n",
       "3                                 True                       False   \n",
       "4                                 True                        True   \n",
       "\n",
       "   bmi_category_bmi_2_overweight  bmi_category_bmi_3_obesity_class_1  \\\n",
       "0                          False                               False   \n",
       "1                           True                               False   \n",
       "2                          False                                True   \n",
       "3                          False                                True   \n",
       "4                          False                               False   \n",
       "\n",
       "   bmi_category_bmi_4_obesity_class_2  bmi_category_bmi_5_obesity_class_3  \\\n",
       "0                                True                               False   \n",
       "1                               False                               False   \n",
       "2                               False                               False   \n",
       "3                               False                               False   \n",
       "4                               False                               False   \n",
       "\n",
       "   smoking_status_never smoked  smoking_status_smokes  \n",
       "0                        False                  False  \n",
       "1                         True                  False  \n",
       "2                         True                  False  \n",
       "3                        False                   True  \n",
       "4                         True                  False  \n",
       "\n",
       "[5 rows x 33 columns]"
      ]
     },
     "execution_count": 22,
     "metadata": {},
     "output_type": "execute_result"
    }
   ],
   "source": [
    "# Encoding selected categorical variables\n",
    "categorical_features = [\n",
    "    'gender',\n",
    "    'age_group',\n",
    "    'glucose_category',\n",
    "    'bmi_category',\n",
    "    'smoking_status'\n",
    "]\n",
    "\n",
    "data_encoded = pd.get_dummies(data_selected, columns=categorical_features, drop_first=True)\n",
    "\n",
    "data_encoded.head()"
   ]
  },
  {
   "cell_type": "markdown",
   "id": "9444d149",
   "metadata": {
    "papermill": {
     "duration": 0.011869,
     "end_time": "2025-05-05T18:02:01.851246",
     "exception": false,
     "start_time": "2025-05-05T18:02:01.839377",
     "status": "completed"
    },
    "tags": []
   },
   "source": [
    "# **6. Data Preprocessing**"
   ]
  },
  {
   "cell_type": "code",
   "execution_count": 23,
   "id": "a65825a8",
   "metadata": {
    "execution": {
     "iopub.execute_input": "2025-05-05T18:02:01.877240Z",
     "iopub.status.busy": "2025-05-05T18:02:01.876888Z",
     "iopub.status.idle": "2025-05-05T18:02:02.055051Z",
     "shell.execute_reply": "2025-05-05T18:02:02.054081Z"
    },
    "papermill": {
     "duration": 0.193447,
     "end_time": "2025-05-05T18:02:02.056886",
     "exception": false,
     "start_time": "2025-05-05T18:02:01.863439",
     "status": "completed"
    },
    "tags": []
   },
   "outputs": [],
   "source": [
    "from sklearn.model_selection import train_test_split\n",
    "from sklearn.preprocessing import StandardScaler\n",
    "\n",
    "# Defining features and target\n",
    "X = data_encoded.drop(columns=['stroke'])\n",
    "y = data_encoded['stroke']\n",
    "\n",
    "# Train-test split (80-20)\n",
    "X_train, X_test, y_train, y_test = train_test_split(X, y, test_size=0.2, random_state=42, stratify=y)\n",
    "\n",
    "# Feature scaling\n",
    "scaler = StandardScaler()\n",
    "X_train_scaled = scaler.fit_transform(X_train)\n",
    "X_test_scaled = scaler.transform(X_test)"
   ]
  },
  {
   "cell_type": "markdown",
   "id": "b03a8ac3",
   "metadata": {
    "papermill": {
     "duration": 0.011727,
     "end_time": "2025-05-05T18:02:02.081051",
     "exception": false,
     "start_time": "2025-05-05T18:02:02.069324",
     "status": "completed"
    },
    "tags": []
   },
   "source": [
    "# **7. Handling Class Imbalance**\n",
    "\n",
    "In this section, as discussed by **He *et al.,* 2009**, imbalanced datasets require techniques like resampling to avoid bias toward the majority class. So, we address the issue of class imbalance, and since stroke cases are rare in the dataset, the model may become biased toward predicting the majority class (no stroke).\n",
    "To overcome this, we use **SMOTE (Synthetic Minority Oversampling Technique)** to balance the training data by generating synthetic examples of the minority class."
   ]
  },
  {
   "cell_type": "code",
   "execution_count": 24,
   "id": "891fefb9",
   "metadata": {
    "execution": {
     "iopub.execute_input": "2025-05-05T18:02:02.105984Z",
     "iopub.status.busy": "2025-05-05T18:02:02.105538Z",
     "iopub.status.idle": "2025-05-05T18:02:02.750141Z",
     "shell.execute_reply": "2025-05-05T18:02:02.749330Z"
    },
    "papermill": {
     "duration": 0.65912,
     "end_time": "2025-05-05T18:02:02.751854",
     "exception": false,
     "start_time": "2025-05-05T18:02:02.092734",
     "status": "completed"
    },
    "tags": []
   },
   "outputs": [],
   "source": [
    "from imblearn.over_sampling import SMOTE\n",
    "\n",
    "# Applying SMOTE only on the training set\n",
    "smote = SMOTE(random_state=42)\n",
    "X_train_balanced, y_train_balanced = smote.fit_resample(X_train_scaled, y_train)"
   ]
  },
  {
   "cell_type": "code",
   "execution_count": 25,
   "id": "829add4d",
   "metadata": {
    "execution": {
     "iopub.execute_input": "2025-05-05T18:02:02.777374Z",
     "iopub.status.busy": "2025-05-05T18:02:02.776821Z",
     "iopub.status.idle": "2025-05-05T18:02:02.784264Z",
     "shell.execute_reply": "2025-05-05T18:02:02.783122Z"
    },
    "papermill": {
     "duration": 0.021838,
     "end_time": "2025-05-05T18:02:02.785854",
     "exception": false,
     "start_time": "2025-05-05T18:02:02.764016",
     "status": "completed"
    },
    "tags": []
   },
   "outputs": [
    {
     "name": "stdout",
     "output_type": "stream",
     "text": [
      "Before SMOTE: Counter({0: 2690, 1: 162})\n",
      "After SMOTE: Counter({0: 2690, 1: 2690})\n"
     ]
    }
   ],
   "source": [
    "from collections import Counter\n",
    "print(\"Before SMOTE:\", Counter(y_train))\n",
    "print(\"After SMOTE:\", Counter(y_train_balanced))"
   ]
  },
  {
   "cell_type": "markdown",
   "id": "b5c856ff",
   "metadata": {
    "papermill": {
     "duration": 0.012157,
     "end_time": "2025-05-05T18:02:02.810270",
     "exception": false,
     "start_time": "2025-05-05T18:02:02.798113",
     "status": "completed"
    },
    "tags": []
   },
   "source": [
    "# **8. Model Training**\n",
    "\n",
    "Now that the data is balanced and preprocessed, we can train machine learning models. We will start with **Logistic Regression**, a widely used linear classification algorithm.\n",
    "\n",
    "We selected multiple models because research shows that **ensemble methods**, such as **Random Forest** ,**Gradient Boosting**, have demonstrated robust performance in imbalanced classification tasks **(Dong et al., 2020)**."
   ]
  },
  {
   "cell_type": "markdown",
   "id": "1d69ecfb",
   "metadata": {
    "papermill": {
     "duration": 0.01395,
     "end_time": "2025-05-05T18:02:02.837677",
     "exception": false,
     "start_time": "2025-05-05T18:02:02.823727",
     "status": "completed"
    },
    "tags": []
   },
   "source": [
    "We used **SelectKBest with ANOVA F-statistics** to select the top 10 most predictive features from the training data. This helps reduce dimensionality and improve model focus."
   ]
  },
  {
   "cell_type": "code",
   "execution_count": 26,
   "id": "99a6453b",
   "metadata": {
    "execution": {
     "iopub.execute_input": "2025-05-05T18:02:02.863726Z",
     "iopub.status.busy": "2025-05-05T18:02:02.863434Z",
     "iopub.status.idle": "2025-05-05T18:02:02.878573Z",
     "shell.execute_reply": "2025-05-05T18:02:02.877585Z"
    },
    "papermill": {
     "duration": 0.029657,
     "end_time": "2025-05-05T18:02:02.880022",
     "exception": false,
     "start_time": "2025-05-05T18:02:02.850365",
     "status": "completed"
    },
    "tags": []
   },
   "outputs": [
    {
     "name": "stdout",
     "output_type": "stream",
     "text": [
      "Selected features: ['age', 'hypertension', 'heart_disease', 'health_risk', 'lifestyle_risk', 'total_risk', 'age_glucose_interaction', 'high_glucose', 'age_group_young_adult', 'glucose_category_glucose_6_140_plus']\n"
     ]
    }
   ],
   "source": [
    "from sklearn.feature_selection import SelectKBest, f_classif\n",
    "\n",
    "# Selecting top k features based on ANOVA F-statistics\n",
    "selector = SelectKBest(score_func=f_classif, k=10) \n",
    "X_train_selected = selector.fit_transform(X_train_balanced, y_train_balanced)\n",
    "X_test_selected = selector.transform(X_test_scaled)\n",
    "\n",
    "# Checking which features were selected\n",
    "mask = selector.get_support()\n",
    "selected_features = X.columns[mask]\n",
    "print(\"Selected features:\", selected_features.tolist())"
   ]
  },
  {
   "cell_type": "code",
   "execution_count": 27,
   "id": "3b7d7ac7",
   "metadata": {
    "execution": {
     "iopub.execute_input": "2025-05-05T18:02:02.905382Z",
     "iopub.status.busy": "2025-05-05T18:02:02.905023Z",
     "iopub.status.idle": "2025-05-05T18:02:04.537966Z",
     "shell.execute_reply": "2025-05-05T18:02:04.537009Z"
    },
    "papermill": {
     "duration": 1.64744,
     "end_time": "2025-05-05T18:02:04.539557",
     "exception": false,
     "start_time": "2025-05-05T18:02:02.892117",
     "status": "completed"
    },
    "tags": []
   },
   "outputs": [
    {
     "data": {
      "text/html": [
       "<style>#sk-container-id-1 {\n",
       "  /* Definition of color scheme common for light and dark mode */\n",
       "  --sklearn-color-text: #000;\n",
       "  --sklearn-color-text-muted: #666;\n",
       "  --sklearn-color-line: gray;\n",
       "  /* Definition of color scheme for unfitted estimators */\n",
       "  --sklearn-color-unfitted-level-0: #fff5e6;\n",
       "  --sklearn-color-unfitted-level-1: #f6e4d2;\n",
       "  --sklearn-color-unfitted-level-2: #ffe0b3;\n",
       "  --sklearn-color-unfitted-level-3: chocolate;\n",
       "  /* Definition of color scheme for fitted estimators */\n",
       "  --sklearn-color-fitted-level-0: #f0f8ff;\n",
       "  --sklearn-color-fitted-level-1: #d4ebff;\n",
       "  --sklearn-color-fitted-level-2: #b3dbfd;\n",
       "  --sklearn-color-fitted-level-3: cornflowerblue;\n",
       "\n",
       "  /* Specific color for light theme */\n",
       "  --sklearn-color-text-on-default-background: var(--sg-text-color, var(--theme-code-foreground, var(--jp-content-font-color1, black)));\n",
       "  --sklearn-color-background: var(--sg-background-color, var(--theme-background, var(--jp-layout-color0, white)));\n",
       "  --sklearn-color-border-box: var(--sg-text-color, var(--theme-code-foreground, var(--jp-content-font-color1, black)));\n",
       "  --sklearn-color-icon: #696969;\n",
       "\n",
       "  @media (prefers-color-scheme: dark) {\n",
       "    /* Redefinition of color scheme for dark theme */\n",
       "    --sklearn-color-text-on-default-background: var(--sg-text-color, var(--theme-code-foreground, var(--jp-content-font-color1, white)));\n",
       "    --sklearn-color-background: var(--sg-background-color, var(--theme-background, var(--jp-layout-color0, #111)));\n",
       "    --sklearn-color-border-box: var(--sg-text-color, var(--theme-code-foreground, var(--jp-content-font-color1, white)));\n",
       "    --sklearn-color-icon: #878787;\n",
       "  }\n",
       "}\n",
       "\n",
       "#sk-container-id-1 {\n",
       "  color: var(--sklearn-color-text);\n",
       "}\n",
       "\n",
       "#sk-container-id-1 pre {\n",
       "  padding: 0;\n",
       "}\n",
       "\n",
       "#sk-container-id-1 input.sk-hidden--visually {\n",
       "  border: 0;\n",
       "  clip: rect(1px 1px 1px 1px);\n",
       "  clip: rect(1px, 1px, 1px, 1px);\n",
       "  height: 1px;\n",
       "  margin: -1px;\n",
       "  overflow: hidden;\n",
       "  padding: 0;\n",
       "  position: absolute;\n",
       "  width: 1px;\n",
       "}\n",
       "\n",
       "#sk-container-id-1 div.sk-dashed-wrapped {\n",
       "  border: 1px dashed var(--sklearn-color-line);\n",
       "  margin: 0 0.4em 0.5em 0.4em;\n",
       "  box-sizing: border-box;\n",
       "  padding-bottom: 0.4em;\n",
       "  background-color: var(--sklearn-color-background);\n",
       "}\n",
       "\n",
       "#sk-container-id-1 div.sk-container {\n",
       "  /* jupyter's `normalize.less` sets `[hidden] { display: none; }`\n",
       "     but bootstrap.min.css set `[hidden] { display: none !important; }`\n",
       "     so we also need the `!important` here to be able to override the\n",
       "     default hidden behavior on the sphinx rendered scikit-learn.org.\n",
       "     See: https://github.com/scikit-learn/scikit-learn/issues/21755 */\n",
       "  display: inline-block !important;\n",
       "  position: relative;\n",
       "}\n",
       "\n",
       "#sk-container-id-1 div.sk-text-repr-fallback {\n",
       "  display: none;\n",
       "}\n",
       "\n",
       "div.sk-parallel-item,\n",
       "div.sk-serial,\n",
       "div.sk-item {\n",
       "  /* draw centered vertical line to link estimators */\n",
       "  background-image: linear-gradient(var(--sklearn-color-text-on-default-background), var(--sklearn-color-text-on-default-background));\n",
       "  background-size: 2px 100%;\n",
       "  background-repeat: no-repeat;\n",
       "  background-position: center center;\n",
       "}\n",
       "\n",
       "/* Parallel-specific style estimator block */\n",
       "\n",
       "#sk-container-id-1 div.sk-parallel-item::after {\n",
       "  content: \"\";\n",
       "  width: 100%;\n",
       "  border-bottom: 2px solid var(--sklearn-color-text-on-default-background);\n",
       "  flex-grow: 1;\n",
       "}\n",
       "\n",
       "#sk-container-id-1 div.sk-parallel {\n",
       "  display: flex;\n",
       "  align-items: stretch;\n",
       "  justify-content: center;\n",
       "  background-color: var(--sklearn-color-background);\n",
       "  position: relative;\n",
       "}\n",
       "\n",
       "#sk-container-id-1 div.sk-parallel-item {\n",
       "  display: flex;\n",
       "  flex-direction: column;\n",
       "}\n",
       "\n",
       "#sk-container-id-1 div.sk-parallel-item:first-child::after {\n",
       "  align-self: flex-end;\n",
       "  width: 50%;\n",
       "}\n",
       "\n",
       "#sk-container-id-1 div.sk-parallel-item:last-child::after {\n",
       "  align-self: flex-start;\n",
       "  width: 50%;\n",
       "}\n",
       "\n",
       "#sk-container-id-1 div.sk-parallel-item:only-child::after {\n",
       "  width: 0;\n",
       "}\n",
       "\n",
       "/* Serial-specific style estimator block */\n",
       "\n",
       "#sk-container-id-1 div.sk-serial {\n",
       "  display: flex;\n",
       "  flex-direction: column;\n",
       "  align-items: center;\n",
       "  background-color: var(--sklearn-color-background);\n",
       "  padding-right: 1em;\n",
       "  padding-left: 1em;\n",
       "}\n",
       "\n",
       "\n",
       "/* Toggleable style: style used for estimator/Pipeline/ColumnTransformer box that is\n",
       "clickable and can be expanded/collapsed.\n",
       "- Pipeline and ColumnTransformer use this feature and define the default style\n",
       "- Estimators will overwrite some part of the style using the `sk-estimator` class\n",
       "*/\n",
       "\n",
       "/* Pipeline and ColumnTransformer style (default) */\n",
       "\n",
       "#sk-container-id-1 div.sk-toggleable {\n",
       "  /* Default theme specific background. It is overwritten whether we have a\n",
       "  specific estimator or a Pipeline/ColumnTransformer */\n",
       "  background-color: var(--sklearn-color-background);\n",
       "}\n",
       "\n",
       "/* Toggleable label */\n",
       "#sk-container-id-1 label.sk-toggleable__label {\n",
       "  cursor: pointer;\n",
       "  display: flex;\n",
       "  width: 100%;\n",
       "  margin-bottom: 0;\n",
       "  padding: 0.5em;\n",
       "  box-sizing: border-box;\n",
       "  text-align: center;\n",
       "  align-items: start;\n",
       "  justify-content: space-between;\n",
       "  gap: 0.5em;\n",
       "}\n",
       "\n",
       "#sk-container-id-1 label.sk-toggleable__label .caption {\n",
       "  font-size: 0.6rem;\n",
       "  font-weight: lighter;\n",
       "  color: var(--sklearn-color-text-muted);\n",
       "}\n",
       "\n",
       "#sk-container-id-1 label.sk-toggleable__label-arrow:before {\n",
       "  /* Arrow on the left of the label */\n",
       "  content: \"▸\";\n",
       "  float: left;\n",
       "  margin-right: 0.25em;\n",
       "  color: var(--sklearn-color-icon);\n",
       "}\n",
       "\n",
       "#sk-container-id-1 label.sk-toggleable__label-arrow:hover:before {\n",
       "  color: var(--sklearn-color-text);\n",
       "}\n",
       "\n",
       "/* Toggleable content - dropdown */\n",
       "\n",
       "#sk-container-id-1 div.sk-toggleable__content {\n",
       "  max-height: 0;\n",
       "  max-width: 0;\n",
       "  overflow: hidden;\n",
       "  text-align: left;\n",
       "  /* unfitted */\n",
       "  background-color: var(--sklearn-color-unfitted-level-0);\n",
       "}\n",
       "\n",
       "#sk-container-id-1 div.sk-toggleable__content.fitted {\n",
       "  /* fitted */\n",
       "  background-color: var(--sklearn-color-fitted-level-0);\n",
       "}\n",
       "\n",
       "#sk-container-id-1 div.sk-toggleable__content pre {\n",
       "  margin: 0.2em;\n",
       "  border-radius: 0.25em;\n",
       "  color: var(--sklearn-color-text);\n",
       "  /* unfitted */\n",
       "  background-color: var(--sklearn-color-unfitted-level-0);\n",
       "}\n",
       "\n",
       "#sk-container-id-1 div.sk-toggleable__content.fitted pre {\n",
       "  /* unfitted */\n",
       "  background-color: var(--sklearn-color-fitted-level-0);\n",
       "}\n",
       "\n",
       "#sk-container-id-1 input.sk-toggleable__control:checked~div.sk-toggleable__content {\n",
       "  /* Expand drop-down */\n",
       "  max-height: 200px;\n",
       "  max-width: 100%;\n",
       "  overflow: auto;\n",
       "}\n",
       "\n",
       "#sk-container-id-1 input.sk-toggleable__control:checked~label.sk-toggleable__label-arrow:before {\n",
       "  content: \"▾\";\n",
       "}\n",
       "\n",
       "/* Pipeline/ColumnTransformer-specific style */\n",
       "\n",
       "#sk-container-id-1 div.sk-label input.sk-toggleable__control:checked~label.sk-toggleable__label {\n",
       "  color: var(--sklearn-color-text);\n",
       "  background-color: var(--sklearn-color-unfitted-level-2);\n",
       "}\n",
       "\n",
       "#sk-container-id-1 div.sk-label.fitted input.sk-toggleable__control:checked~label.sk-toggleable__label {\n",
       "  background-color: var(--sklearn-color-fitted-level-2);\n",
       "}\n",
       "\n",
       "/* Estimator-specific style */\n",
       "\n",
       "/* Colorize estimator box */\n",
       "#sk-container-id-1 div.sk-estimator input.sk-toggleable__control:checked~label.sk-toggleable__label {\n",
       "  /* unfitted */\n",
       "  background-color: var(--sklearn-color-unfitted-level-2);\n",
       "}\n",
       "\n",
       "#sk-container-id-1 div.sk-estimator.fitted input.sk-toggleable__control:checked~label.sk-toggleable__label {\n",
       "  /* fitted */\n",
       "  background-color: var(--sklearn-color-fitted-level-2);\n",
       "}\n",
       "\n",
       "#sk-container-id-1 div.sk-label label.sk-toggleable__label,\n",
       "#sk-container-id-1 div.sk-label label {\n",
       "  /* The background is the default theme color */\n",
       "  color: var(--sklearn-color-text-on-default-background);\n",
       "}\n",
       "\n",
       "/* On hover, darken the color of the background */\n",
       "#sk-container-id-1 div.sk-label:hover label.sk-toggleable__label {\n",
       "  color: var(--sklearn-color-text);\n",
       "  background-color: var(--sklearn-color-unfitted-level-2);\n",
       "}\n",
       "\n",
       "/* Label box, darken color on hover, fitted */\n",
       "#sk-container-id-1 div.sk-label.fitted:hover label.sk-toggleable__label.fitted {\n",
       "  color: var(--sklearn-color-text);\n",
       "  background-color: var(--sklearn-color-fitted-level-2);\n",
       "}\n",
       "\n",
       "/* Estimator label */\n",
       "\n",
       "#sk-container-id-1 div.sk-label label {\n",
       "  font-family: monospace;\n",
       "  font-weight: bold;\n",
       "  display: inline-block;\n",
       "  line-height: 1.2em;\n",
       "}\n",
       "\n",
       "#sk-container-id-1 div.sk-label-container {\n",
       "  text-align: center;\n",
       "}\n",
       "\n",
       "/* Estimator-specific */\n",
       "#sk-container-id-1 div.sk-estimator {\n",
       "  font-family: monospace;\n",
       "  border: 1px dotted var(--sklearn-color-border-box);\n",
       "  border-radius: 0.25em;\n",
       "  box-sizing: border-box;\n",
       "  margin-bottom: 0.5em;\n",
       "  /* unfitted */\n",
       "  background-color: var(--sklearn-color-unfitted-level-0);\n",
       "}\n",
       "\n",
       "#sk-container-id-1 div.sk-estimator.fitted {\n",
       "  /* fitted */\n",
       "  background-color: var(--sklearn-color-fitted-level-0);\n",
       "}\n",
       "\n",
       "/* on hover */\n",
       "#sk-container-id-1 div.sk-estimator:hover {\n",
       "  /* unfitted */\n",
       "  background-color: var(--sklearn-color-unfitted-level-2);\n",
       "}\n",
       "\n",
       "#sk-container-id-1 div.sk-estimator.fitted:hover {\n",
       "  /* fitted */\n",
       "  background-color: var(--sklearn-color-fitted-level-2);\n",
       "}\n",
       "\n",
       "/* Specification for estimator info (e.g. \"i\" and \"?\") */\n",
       "\n",
       "/* Common style for \"i\" and \"?\" */\n",
       "\n",
       ".sk-estimator-doc-link,\n",
       "a:link.sk-estimator-doc-link,\n",
       "a:visited.sk-estimator-doc-link {\n",
       "  float: right;\n",
       "  font-size: smaller;\n",
       "  line-height: 1em;\n",
       "  font-family: monospace;\n",
       "  background-color: var(--sklearn-color-background);\n",
       "  border-radius: 1em;\n",
       "  height: 1em;\n",
       "  width: 1em;\n",
       "  text-decoration: none !important;\n",
       "  margin-left: 0.5em;\n",
       "  text-align: center;\n",
       "  /* unfitted */\n",
       "  border: var(--sklearn-color-unfitted-level-1) 1pt solid;\n",
       "  color: var(--sklearn-color-unfitted-level-1);\n",
       "}\n",
       "\n",
       ".sk-estimator-doc-link.fitted,\n",
       "a:link.sk-estimator-doc-link.fitted,\n",
       "a:visited.sk-estimator-doc-link.fitted {\n",
       "  /* fitted */\n",
       "  border: var(--sklearn-color-fitted-level-1) 1pt solid;\n",
       "  color: var(--sklearn-color-fitted-level-1);\n",
       "}\n",
       "\n",
       "/* On hover */\n",
       "div.sk-estimator:hover .sk-estimator-doc-link:hover,\n",
       ".sk-estimator-doc-link:hover,\n",
       "div.sk-label-container:hover .sk-estimator-doc-link:hover,\n",
       ".sk-estimator-doc-link:hover {\n",
       "  /* unfitted */\n",
       "  background-color: var(--sklearn-color-unfitted-level-3);\n",
       "  color: var(--sklearn-color-background);\n",
       "  text-decoration: none;\n",
       "}\n",
       "\n",
       "div.sk-estimator.fitted:hover .sk-estimator-doc-link.fitted:hover,\n",
       ".sk-estimator-doc-link.fitted:hover,\n",
       "div.sk-label-container:hover .sk-estimator-doc-link.fitted:hover,\n",
       ".sk-estimator-doc-link.fitted:hover {\n",
       "  /* fitted */\n",
       "  background-color: var(--sklearn-color-fitted-level-3);\n",
       "  color: var(--sklearn-color-background);\n",
       "  text-decoration: none;\n",
       "}\n",
       "\n",
       "/* Span, style for the box shown on hovering the info icon */\n",
       ".sk-estimator-doc-link span {\n",
       "  display: none;\n",
       "  z-index: 9999;\n",
       "  position: relative;\n",
       "  font-weight: normal;\n",
       "  right: .2ex;\n",
       "  padding: .5ex;\n",
       "  margin: .5ex;\n",
       "  width: min-content;\n",
       "  min-width: 20ex;\n",
       "  max-width: 50ex;\n",
       "  color: var(--sklearn-color-text);\n",
       "  box-shadow: 2pt 2pt 4pt #999;\n",
       "  /* unfitted */\n",
       "  background: var(--sklearn-color-unfitted-level-0);\n",
       "  border: .5pt solid var(--sklearn-color-unfitted-level-3);\n",
       "}\n",
       "\n",
       ".sk-estimator-doc-link.fitted span {\n",
       "  /* fitted */\n",
       "  background: var(--sklearn-color-fitted-level-0);\n",
       "  border: var(--sklearn-color-fitted-level-3);\n",
       "}\n",
       "\n",
       ".sk-estimator-doc-link:hover span {\n",
       "  display: block;\n",
       "}\n",
       "\n",
       "/* \"?\"-specific style due to the `<a>` HTML tag */\n",
       "\n",
       "#sk-container-id-1 a.estimator_doc_link {\n",
       "  float: right;\n",
       "  font-size: 1rem;\n",
       "  line-height: 1em;\n",
       "  font-family: monospace;\n",
       "  background-color: var(--sklearn-color-background);\n",
       "  border-radius: 1rem;\n",
       "  height: 1rem;\n",
       "  width: 1rem;\n",
       "  text-decoration: none;\n",
       "  /* unfitted */\n",
       "  color: var(--sklearn-color-unfitted-level-1);\n",
       "  border: var(--sklearn-color-unfitted-level-1) 1pt solid;\n",
       "}\n",
       "\n",
       "#sk-container-id-1 a.estimator_doc_link.fitted {\n",
       "  /* fitted */\n",
       "  border: var(--sklearn-color-fitted-level-1) 1pt solid;\n",
       "  color: var(--sklearn-color-fitted-level-1);\n",
       "}\n",
       "\n",
       "/* On hover */\n",
       "#sk-container-id-1 a.estimator_doc_link:hover {\n",
       "  /* unfitted */\n",
       "  background-color: var(--sklearn-color-unfitted-level-3);\n",
       "  color: var(--sklearn-color-background);\n",
       "  text-decoration: none;\n",
       "}\n",
       "\n",
       "#sk-container-id-1 a.estimator_doc_link.fitted:hover {\n",
       "  /* fitted */\n",
       "  background-color: var(--sklearn-color-fitted-level-3);\n",
       "}\n",
       "</style><div id=\"sk-container-id-1\" class=\"sk-top-container\"><div class=\"sk-text-repr-fallback\"><pre>DecisionTreeClassifier(class_weight=&#x27;balanced&#x27;, max_depth=4, random_state=42)</pre><b>In a Jupyter environment, please rerun this cell to show the HTML representation or trust the notebook. <br />On GitHub, the HTML representation is unable to render, please try loading this page with nbviewer.org.</b></div><div class=\"sk-container\" hidden><div class=\"sk-item\"><div class=\"sk-estimator fitted sk-toggleable\"><input class=\"sk-toggleable__control sk-hidden--visually\" id=\"sk-estimator-id-1\" type=\"checkbox\" checked><label for=\"sk-estimator-id-1\" class=\"sk-toggleable__label fitted sk-toggleable__label-arrow\"><div><div>DecisionTreeClassifier</div></div><div><a class=\"sk-estimator-doc-link fitted\" rel=\"noreferrer\" target=\"_blank\" href=\"https://scikit-learn.org/1.6/modules/generated/sklearn.tree.DecisionTreeClassifier.html\">?<span>Documentation for DecisionTreeClassifier</span></a><span class=\"sk-estimator-doc-link fitted\">i<span>Fitted</span></span></div></label><div class=\"sk-toggleable__content fitted\"><pre>DecisionTreeClassifier(class_weight=&#x27;balanced&#x27;, max_depth=4, random_state=42)</pre></div> </div></div></div></div>"
      ],
      "text/plain": [
       "DecisionTreeClassifier(class_weight='balanced', max_depth=4, random_state=42)"
      ]
     },
     "execution_count": 27,
     "metadata": {},
     "output_type": "execute_result"
    }
   ],
   "source": [
    "from sklearn.linear_model import LogisticRegression\n",
    "from sklearn.ensemble import RandomForestClassifier, GradientBoostingClassifier\n",
    "from sklearn.tree import DecisionTreeClassifier\n",
    "\n",
    "# Logistic Regression\n",
    "model_lr = LogisticRegression(class_weight='balanced', random_state=42)\n",
    "model_lr.fit(X_train_selected, y_train_balanced)\n",
    "\n",
    "# Random Forest\n",
    "model_rf = RandomForestClassifier(class_weight='balanced', random_state=42)\n",
    "model_rf.fit(X_train_selected, y_train_balanced)\n",
    "\n",
    "# Gradient Boosting\n",
    "model_gb = GradientBoostingClassifier(random_state=42)\n",
    "model_gb.fit(X_train_selected, y_train_balanced)\n",
    "\n",
    "# Decision Tree\n",
    "model_dt = DecisionTreeClassifier(class_weight='balanced', max_depth=4, random_state=42)\n",
    "model_dt.fit(X_train_selected, y_train_balanced)"
   ]
  },
  {
   "cell_type": "markdown",
   "id": "3ca1fa1b",
   "metadata": {
    "papermill": {
     "duration": 0.012116,
     "end_time": "2025-05-05T18:02:04.564468",
     "exception": false,
     "start_time": "2025-05-05T18:02:04.552352",
     "status": "completed"
    },
    "tags": []
   },
   "source": [
    "# **9. Model Evaluation**"
   ]
  },
  {
   "cell_type": "code",
   "execution_count": 28,
   "id": "6a68b131",
   "metadata": {
    "execution": {
     "iopub.execute_input": "2025-05-05T18:02:04.591088Z",
     "iopub.status.busy": "2025-05-05T18:02:04.590780Z",
     "iopub.status.idle": "2025-05-05T18:02:04.716906Z",
     "shell.execute_reply": "2025-05-05T18:02:04.715894Z"
    },
    "papermill": {
     "duration": 0.141288,
     "end_time": "2025-05-05T18:02:04.718468",
     "exception": false,
     "start_time": "2025-05-05T18:02:04.577180",
     "status": "completed"
    },
    "tags": []
   },
   "outputs": [
    {
     "name": "stdout",
     "output_type": "stream",
     "text": [
      "\n",
      "=== Classification Report for Logistic Regression ===\n",
      "              precision    recall  f1-score   support\n",
      "\n",
      "           0      0.980     0.737     0.842       674\n",
      "           1      0.145     0.750     0.243        40\n",
      "\n",
      "    accuracy                          0.738       714\n",
      "   macro avg      0.563     0.744     0.542       714\n",
      "weighted avg      0.933     0.738     0.808       714\n",
      "\n",
      "\n",
      "=== Classification Report for Random Forest ===\n",
      "              precision    recall  f1-score   support\n",
      "\n",
      "           0      0.949     0.939     0.944       674\n",
      "           1      0.128     0.150     0.138        40\n",
      "\n",
      "    accuracy                          0.895       714\n",
      "   macro avg      0.538     0.545     0.541       714\n",
      "weighted avg      0.903     0.895     0.899       714\n",
      "\n",
      "\n",
      "=== Classification Report for Gradient Boosting ===\n",
      "              precision    recall  f1-score   support\n",
      "\n",
      "           0      0.952     0.890     0.920       674\n",
      "           1      0.119     0.250     0.161        40\n",
      "\n",
      "    accuracy                          0.854       714\n",
      "   macro avg      0.536     0.570     0.541       714\n",
      "weighted avg      0.906     0.854     0.878       714\n",
      "\n",
      "\n",
      "=== Classification Report for Decision Tree ===\n",
      "              precision    recall  f1-score   support\n",
      "\n",
      "           0      0.972     0.714     0.823       674\n",
      "           1      0.119     0.650     0.201        40\n",
      "\n",
      "    accuracy                          0.710       714\n",
      "   macro avg      0.545     0.682     0.512       714\n",
      "weighted avg      0.924     0.710     0.788       714\n",
      "\n"
     ]
    }
   ],
   "source": [
    "from sklearn.metrics import (\n",
    "    accuracy_score, precision_score, recall_score, \n",
    "    f1_score, roc_auc_score, confusion_matrix, classification_report\n",
    ")\n",
    "\n",
    "def evaluate_model(model, name):\n",
    "    y_pred = model.predict(X_test_selected)\n",
    "    y_proba = model.predict_proba(X_test_selected)[:, 1]\n",
    "\n",
    "    acc = accuracy_score(y_test, y_pred)\n",
    "    prec = precision_score(y_test, y_pred)\n",
    "    rec = recall_score(y_test, y_pred)\n",
    "    f1 = f1_score(y_test, y_pred)\n",
    "    roc = roc_auc_score(y_test, y_proba)\n",
    "\n",
    "    tn, fp, fn, tp = confusion_matrix(y_test, y_pred).ravel()\n",
    "\n",
    "    print(f\"\\n=== Classification Report for {name} ===\")\n",
    "    print(classification_report(y_test, y_pred, digits=3))\n",
    "\n",
    "    model_results.append({\n",
    "        'Model': name,\n",
    "        'Accuracy': acc,\n",
    "        'Precision': prec,\n",
    "        'Recall': rec,\n",
    "        'F1-Score': f1,\n",
    "        'ROC AUC': roc,\n",
    "        'True Positives': tp,\n",
    "        'False Negatives': fn\n",
    "    })\n",
    "\n",
    "model_results = []\n",
    "evaluate_model(model_lr, \"Logistic Regression\")\n",
    "evaluate_model(model_rf, \"Random Forest\")\n",
    "evaluate_model(model_gb, \"Gradient Boosting\")\n",
    "evaluate_model(model_dt, \"Decision Tree\")"
   ]
  },
  {
   "cell_type": "code",
   "execution_count": 29,
   "id": "027ea4fc",
   "metadata": {
    "execution": {
     "iopub.execute_input": "2025-05-05T18:02:04.745611Z",
     "iopub.status.busy": "2025-05-05T18:02:04.744982Z",
     "iopub.status.idle": "2025-05-05T18:02:04.756366Z",
     "shell.execute_reply": "2025-05-05T18:02:04.755441Z"
    },
    "papermill": {
     "duration": 0.026025,
     "end_time": "2025-05-05T18:02:04.757764",
     "exception": false,
     "start_time": "2025-05-05T18:02:04.731739",
     "status": "completed"
    },
    "tags": []
   },
   "outputs": [
    {
     "name": "stdout",
     "output_type": "stream",
     "text": [
      "\n",
      "=== Model Performance Metrics ===\n",
      "\n",
      "              Model  Accuracy  Precision  Recall  F1-Score  ROC AUC\n",
      "Logistic Regression     0.738      0.145    0.75     0.243    0.839\n",
      "      Random Forest     0.895      0.128    0.15     0.138    0.718\n",
      "  Gradient Boosting     0.854      0.119    0.25     0.161    0.771\n",
      "      Decision Tree     0.710      0.119    0.65     0.201    0.780\n",
      "\n",
      "=== Error Analysis by Model ===\n",
      "\n",
      "              Model  True Positives  False Negatives\n",
      "Logistic Regression              30               10\n",
      "      Random Forest               6               34\n",
      "  Gradient Boosting              10               30\n",
      "      Decision Tree              26               14\n"
     ]
    }
   ],
   "source": [
    "# Summarize results\n",
    "results_df = pd.DataFrame(model_results)\n",
    "\n",
    "performance_metrics = results_df[['Model', 'Accuracy', 'Precision', 'Recall', 'F1-Score', 'ROC AUC']]\n",
    "error_analysis = results_df[['Model', 'True Positives', 'False Negatives']]\n",
    "\n",
    "print(\"\\n=== Model Performance Metrics ===\\n\")\n",
    "print(performance_metrics.round(3).to_string(index=False))\n",
    "\n",
    "print(\"\\n=== Error Analysis by Model ===\\n\")\n",
    "print(error_analysis.to_string(index=False))"
   ]
  },
  {
   "cell_type": "markdown",
   "id": "8116f5a5",
   "metadata": {
    "papermill": {
     "duration": 0.012013,
     "end_time": "2025-05-05T18:02:04.782625",
     "exception": false,
     "start_time": "2025-05-05T18:02:04.770612",
     "status": "completed"
    },
    "tags": []
   },
   "source": [
    "# **10. Results Discussion**\n",
    "\n",
    "In this section, we compare and interpret the performance of the trained models, using **Recall and ROC-AUC**."
   ]
  },
  {
   "cell_type": "code",
   "execution_count": 30,
   "id": "8095f7d8",
   "metadata": {
    "execution": {
     "iopub.execute_input": "2025-05-05T18:02:04.808957Z",
     "iopub.status.busy": "2025-05-05T18:02:04.808400Z",
     "iopub.status.idle": "2025-05-05T18:02:05.063738Z",
     "shell.execute_reply": "2025-05-05T18:02:05.062741Z"
    },
    "papermill": {
     "duration": 0.270713,
     "end_time": "2025-05-05T18:02:05.065813",
     "exception": false,
     "start_time": "2025-05-05T18:02:04.795100",
     "status": "completed"
    },
    "tags": []
   },
   "outputs": [
    {
     "data": {
      "image/png": "[encoded data removed]",
      "text/plain": [
       "<Figure size 1000x600 with 1 Axes>"
      ]
     },
     "metadata": {},
     "output_type": "display_data"
    }
   ],
   "source": [
    "import seaborn as sns\n",
    "# Reshaping the DataFrame\n",
    "melted = results_df.melt(id_vars='Model', value_vars=['ROC AUC', 'Recall'], \n",
    "                         var_name='Metric', value_name='Score')\n",
    "\n",
    "plt.figure(figsize=(10, 6))\n",
    "sns.barplot(data=melted, x='Model', y='Score', hue='Metric', palette=['purple', 'skyblue'])\n",
    "plt.title('Model Comparison: ROC-AUC vs Recall')\n",
    "plt.ylim(0, 1)\n",
    "plt.xticks(rotation=15)\n",
    "plt.grid(axis='y')\n",
    "plt.tight_layout()\n",
    "plt.show()"
   ]
  },
  {
   "cell_type": "markdown",
   "id": "d1e32ead",
   "metadata": {
    "papermill": {
     "duration": 0.013073,
     "end_time": "2025-05-05T18:02:05.092458",
     "exception": false,
     "start_time": "2025-05-05T18:02:05.079385",
     "status": "completed"
    },
    "tags": []
   },
   "source": [
    "### Model Performance Summary\n",
    "\n",
    "| Metric              | Logistic Regression | Random Forest | Gradient Boosting | Decision Tree |\n",
    "|---------------------|---------------------|---------------|-------------------|---------------|\n",
    "| **Recall**          | **0.750 (high)**    | 0.150         | 0.250             | 0.650         |\n",
    "| **Precision**       | 0.145               | 0.128         | 0.119             | 0.119         |\n",
    "| **Accuracy**        | 0.738               | **0.895**     | 0.854             | 0.710         |\n",
    "| **ROC-AUC**         | **0.839 (highest)** | 0.718         | 0.771             | 0.780         |\n",
    "\n",
    "**Model Trade-offs and Clinical Relevance**\n",
    "\n",
    "Logistic Regression achieved the highest **ROC-AUC (0.839)** and strong **recall (0.75)**, making it effective at identifying stroke cases. Although its **precision (0.145)** is low, this is acceptable in clinical contexts where missing a true case is more harmful than a false alarm.\n",
    "\n",
    "While **Random Forest** and **Gradient Boosting** achieved higher accuracy, they had much lower recall, missing many true stroke cases. **Decision Tree** offered a middle ground with balanced recall and acceptable ROC-AUC.\n",
    "\n",
    "Given the clinical importance of detecting strokes, **Logistic Regression** is the most suitable model when prioritizing patient safety and early intervention."
   ]
  },
  {
   "cell_type": "code",
   "execution_count": 31,
   "id": "43f63363",
   "metadata": {
    "execution": {
     "iopub.execute_input": "2025-05-05T18:02:05.120657Z",
     "iopub.status.busy": "2025-05-05T18:02:05.120056Z",
     "iopub.status.idle": "2025-05-05T18:02:05.522074Z",
     "shell.execute_reply": "2025-05-05T18:02:05.521106Z"
    },
    "papermill": {
     "duration": 0.417987,
     "end_time": "2025-05-05T18:02:05.523730",
     "exception": false,
     "start_time": "2025-05-05T18:02:05.105743",
     "status": "completed"
    },
    "tags": []
   },
   "outputs": [
    {
     "data": {
      "image/png": "[encoded data removed]",
      "text/plain": [
       "<Figure size 1600x600 with 2 Axes>"
      ]
     },
     "metadata": {},
     "output_type": "display_data"
    }
   ],
   "source": [
    "models = results_df['Model']\n",
    "tp_values = results_df['True Positives']\n",
    "fn_values = results_df['False Negatives']\n",
    "\n",
    "fig, axes = plt.subplots(1, 2, figsize=(16, 6))\n",
    "\n",
    "# True Positives Plot \n",
    "axes[0].bar(models, tp_values, color='green')\n",
    "axes[0].set_title('True Positives (Detected Stroke Cases)', fontsize=14)\n",
    "axes[0].set_ylabel('Count')\n",
    "axes[0].tick_params(axis='x', rotation=15)\n",
    "axes[0].grid(axis='y')\n",
    "\n",
    "# Annotating TP values\n",
    "for i, val in enumerate(tp_values):\n",
    "    axes[0].text(i, val + 0.5, str(val), ha='center', va='bottom', fontsize=10)\n",
    "\n",
    "# False Negatives Plot\n",
    "axes[1].bar(models, fn_values, color='red')\n",
    "axes[1].set_title('False Negatives (Missed Stroke Cases)', fontsize=14)\n",
    "axes[1].set_ylabel('Count')\n",
    "axes[1].tick_params(axis='x', rotation=15)\n",
    "axes[1].grid(axis='y')\n",
    "\n",
    "# Annotating FN values\n",
    "for i, val in enumerate(fn_values):\n",
    "    axes[1].text(i, val + 0.5, str(val), ha='center', va='bottom', fontsize=10)\n",
    "\n",
    "plt.tight_layout()\n",
    "plt.show()"
   ]
  },
  {
   "cell_type": "markdown",
   "id": "5e61e7ca",
   "metadata": {
    "papermill": {
     "duration": 0.014849,
     "end_time": "2025-05-05T18:02:05.554463",
     "exception": false,
     "start_time": "2025-05-05T18:02:05.539614",
     "status": "completed"
    },
    "tags": []
   },
   "source": [
    "We evaluated four machine learning models based on their ability to correctly detect stroke cases. The focus was on:\n",
    "\n",
    "- **True Positives**: Correctly identified stroke cases  \n",
    "- **False Negatives**: Missed stroke cases\n",
    "\n",
    "These metrics are critical in medical diagnostics, where failing to detect a stroke can have serious consequences. We got, \n",
    "\n",
    "| Model               | True Positives | False Negatives |\n",
    "|--------------------|----------------|-----------------|\n",
    "| Logistic Regression| **30**         | **10**          |\n",
    "| Random Forest      | 6              | 34              |\n",
    "| Gradient Boosting  | 10             | 30              |\n",
    "| Decision Tree      | 26             | 14              |\n",
    "\n",
    "### Best Model: Logistic Regression\n",
    "\n",
    "- Detected the **most stroke cases (30)**\n",
    "- Missed only **10**, yielding strong recall\n",
    "- Suitable for **high-sensitivity medical screening**\n",
    "\n",
    "### Weakest Model: Random Forest\n",
    "\n",
    "- Detected just **6 stroke cases**\n",
    "- Missed **34 cases**, the **highest false negative count**\n",
    "- Not reliable for clinical decision support"
   ]
  },
  {
   "cell_type": "markdown",
   "id": "a279841e",
   "metadata": {
    "papermill": {
     "duration": 0.014808,
     "end_time": "2025-05-05T18:02:05.584109",
     "exception": false,
     "start_time": "2025-05-05T18:02:05.569301",
     "status": "completed"
    },
    "tags": []
   },
   "source": [
    "**Hyperparameter Tuning in the best model**"
   ]
  },
  {
   "cell_type": "code",
   "execution_count": 32,
   "id": "f7aaa6a4",
   "metadata": {
    "execution": {
     "iopub.execute_input": "2025-05-05T18:02:05.614526Z",
     "iopub.status.busy": "2025-05-05T18:02:05.614179Z",
     "iopub.status.idle": "2025-05-05T18:02:08.171570Z",
     "shell.execute_reply": "2025-05-05T18:02:08.170296Z"
    },
    "papermill": {
     "duration": 2.574547,
     "end_time": "2025-05-05T18:02:08.173274",
     "exception": false,
     "start_time": "2025-05-05T18:02:05.598727",
     "status": "completed"
    },
    "tags": []
   },
   "outputs": [
    {
     "name": "stdout",
     "output_type": "stream",
     "text": [
      "=== Model Performance Metrics ===\n",
      "\n",
      "              Model  Accuracy  Precision  Recall  F1-Score  ROC AUC\n",
      "Logistic Regression       0.7      0.134     0.8      0.23    0.841\n"
     ]
    }
   ],
   "source": [
    "from sklearn.linear_model import LogisticRegression\n",
    "from sklearn.model_selection import GridSearchCV\n",
    "from sklearn.metrics import (\n",
    "    accuracy_score, precision_score, recall_score,\n",
    "    f1_score, roc_auc_score, confusion_matrix, ConfusionMatrixDisplay\n",
    ")\n",
    "import pandas as pd\n",
    "import matplotlib.pyplot as plt\n",
    "\n",
    "# Grid search for Logistic Regression\n",
    "param_grid = {\n",
    "    'C': [0.01, 0.1, 1, 10, 100],\n",
    "    'penalty': ['l2'],\n",
    "    'solver': ['liblinear']\n",
    "}\n",
    "\n",
    "grid_search = GridSearchCV(\n",
    "    LogisticRegression(class_weight='balanced', max_iter=1000),\n",
    "    param_grid, cv=5, scoring='recall', n_jobs=-1\n",
    ")\n",
    "grid_search.fit(X_train_selected, y_train_balanced)\n",
    "best_lr_model = grid_search.best_estimator_\n",
    "\n",
    "# Evaluation\n",
    "y_pred = best_lr_model.predict(X_test_selected)\n",
    "y_proba = best_lr_model.predict_proba(X_test_selected)[:, 1]\n",
    "\n",
    "metrics = {\n",
    "    'Model': 'Logistic Regression',\n",
    "    'Accuracy': accuracy_score(y_test, y_pred),\n",
    "    'Precision': precision_score(y_test, y_pred),\n",
    "    'Recall': recall_score(y_test, y_pred),\n",
    "    'F1-Score': f1_score(y_test, y_pred),\n",
    "    'ROC AUC': roc_auc_score(y_test, y_proba),\n",
    "    'True Positives': confusion_matrix(y_test, y_pred)[1, 1],\n",
    "    'False Negatives': confusion_matrix(y_test, y_pred)[1, 0]\n",
    "}\n",
    "\n",
    "results_df = pd.DataFrame([metrics])\n",
    "\n",
    "# Display results\n",
    "print(\"=== Model Performance Metrics ===\\n\")\n",
    "print(results_df[['Model', 'Accuracy', 'Precision', 'Recall', 'F1-Score', 'ROC AUC']].round(3).to_string(index=False))"
   ]
  },
  {
   "cell_type": "code",
   "execution_count": 33,
   "id": "2e4f841c",
   "metadata": {
    "execution": {
     "iopub.execute_input": "2025-05-05T18:02:08.205290Z",
     "iopub.status.busy": "2025-05-05T18:02:08.204900Z",
     "iopub.status.idle": "2025-05-05T18:02:08.539946Z",
     "shell.execute_reply": "2025-05-05T18:02:08.538921Z"
    },
    "papermill": {
     "duration": 0.353016,
     "end_time": "2025-05-05T18:02:08.541570",
     "exception": false,
     "start_time": "2025-05-05T18:02:08.188554",
     "status": "completed"
    },
    "tags": []
   },
   "outputs": [
    {
     "data": {
      "image/png": "[encoded data removed]",
      "text/plain": [
       "<Figure size 640x480 with 2 Axes>"
      ]
     },
     "metadata": {},
     "output_type": "display_data"
    }
   ],
   "source": [
    "# Plotting confusion matrix\n",
    "ConfusionMatrixDisplay.from_predictions(y_test, y_pred, cmap='Blues')\n",
    "plt.title(\"Confusion Matrix: Tuned Logistic Regression\")\n",
    "plt.show()"
   ]
  },
  {
   "cell_type": "markdown",
   "id": "bb948030",
   "metadata": {
    "papermill": {
     "duration": 0.016606,
     "end_time": "2025-05-05T18:02:08.573396",
     "exception": false,
     "start_time": "2025-05-05T18:02:08.556790",
     "status": "completed"
    },
    "tags": []
   },
   "source": [
    "**After tuning hyperparameters, Logistic Regression showed improved performance in stroke detection:**\n",
    "\n",
    "### Model Performance Summary\n",
    "\n",
    "- **Recall:** 0.80 (high) – correctly identified 32 stroke cases\n",
    "- **Precision:** 0.134 – low, but acceptable in clinical settings prioritizing safety\n",
    "- **ROC AUC:** 0.841 – indicates strong overall discrimination ability\n",
    "- **Accuracy:** 0.70 – moderate overall correctness\n",
    "\n",
    "---\n",
    "\n",
    "### Confusion Matrix Analysis\n",
    "\n",
    "The confusion matrix for the tuned Logistic Regression model shows:\n",
    "\n",
    "- **True Negatives (TN):** 468  \n",
    "- **False Positives (FP):** 206  \n",
    "- **False Negatives (FN):** 8  \n",
    "- **True Positives (TP):** 32  \n",
    "\n",
    "The model achieved **high recall 0.80**, with only **8 missed stroke cases**, making it reliable for medical screening where identifying all possible stroke patients is critical. While precision remains low, this is an acceptable trade-off in safety-first applications."
   ]
  },
  {
   "cell_type": "markdown",
   "id": "80b7c04d",
   "metadata": {
    "papermill": {
     "duration": 0.015023,
     "end_time": "2025-05-05T18:02:08.604277",
     "exception": false,
     "start_time": "2025-05-05T18:02:08.589254",
     "status": "completed"
    },
    "tags": []
   },
   "source": [
    "## **11. Conclusion**"
   ]
  },
  {
   "cell_type": "markdown",
   "id": "599c100c",
   "metadata": {
    "papermill": {
     "duration": 0.014711,
     "end_time": "2025-05-05T18:02:08.633927",
     "exception": false,
     "start_time": "2025-05-05T18:02:08.619216",
     "status": "completed"
    },
    "tags": []
   },
   "source": [
    "### Summary: Stroke Prediction Using Machine Learning\n",
    "\n",
    "To sum up, we developed a machine learning solution to predict the probability of stroke using patient health records.\n",
    "\n",
    "**Key Insights**\n",
    "\n",
    "- **Visual error analysis** (true positives vs. false negatives) helped assess clinical impact of missed stroke cases.\n",
    "- **Removed weak features** such as `work_type` (low relevance) and `gender=Other` (insufficient data).\n",
    "- Prioritized **clinical safety** in model selection — **recall was more important than overall accuracy**.\n",
    "\n",
    "**Performance Highlights**\n",
    "\n",
    "- The tuned **Logistic Regression** model achieved:\n",
    "  - **Recall:** 0.80 – correctly identified 32 stroke cases\n",
    "  - **Precision:** 0.134 – expected trade-off due to prioritizing recall\n",
    "  - **Accuracy:** 0.70\n",
    "  - **ROC-AUC:** 0.841 – strong discrimination between stroke and non-stroke cases\n",
    "- Only **8 stroke cases were missed**, showing strong sensitivity\n",
    "- Performance reflects realistic and clinically meaningful results on an imbalanced dataset\n",
    "\n",
    "**Opportunities for Improvement**\n",
    "\n",
    "- Integrate **richer clinical data** (e.g., lab results, patient history, time-series records)\n",
    "- Apply **threshold tuning** to better balance sensitivity and specificity (He *et al.*, 2009)\n",
    "- Explore **advanced ensemble methods** or **AutoML** for optimized and interpretable performance\n",
    "\n",
    "This solution supports early intervention and risk monitoring, providing valuable decision support in real-world clinical settings."
   ]
  },
  {
   "cell_type": "markdown",
   "id": "937281b3",
   "metadata": {
    "papermill": {
     "duration": 0.014837,
     "end_time": "2025-05-05T18:02:08.663814",
     "exception": false,
     "start_time": "2025-05-05T18:02:08.648977",
     "status": "completed"
    },
    "tags": []
   },
   "source": [
    "## **12. References**\n",
    "\n",
    "- Yao, X., Lin, Y., Geng, J., Sun, Y., Chen, Y., Shi, G., Xu, Q. & Li, Y., 2012. *Age- and gender-specific prevalence of risk factors in patients with first-ever ischemic stroke in China*. Stroke Research and Treatment, \\[online] 2012, pp.1–8. Available at: [https://doi.org/10.1155/2012/136398]\n",
    "\n",
    "- He, H. and Garcia, E.A., 2009. *Learning from imbalanced data*. IEEE Transactions on Knowledge and Data Engineering, 21(9), pp.1263–1284. Available at: [https://ieeexplore.ieee.org/document/5128907]\n",
    "\n",
    "- Dong, X., Yu, Z., Cao, W., Shi, Y. and Ma, Q., 2020. *A survey on ensemble learning*. Frontiers of Computer Science, 14, pp.241–258. Available at: [https://www.researchgate.net/publication/335504359_A_survey_on_ensemble_learning]\n",
    "\n",
    "- Hutter, F., Kotthoff, L. and Vanschoren, J., 2019. *Automated machine learning: Methods, systems, challenges*. Springer Nature. Available at: [https://link.springer.com/book/10.1007/978-3-030-05318-5]\n",
    " \n",
    "- Stroke risk factors and prevention, n.d. Better Health Channel. [online] Available at: [https://www.betterhealth.vic.gov.au/health/conditionsandtreatments/stroke-risk-factors-and-prevention]\n",
    "\n",
    "- Park, C., Guallar, E., Linton, J.A., Lee, D.-C., Jang, Y., Son, D.K., Han, E.-J., Baek, S.J., Yun, Y.D., Jee, S.H. and Samet, J.M., 2013. Fasting glucose level and the risk of incident atherosclerotic cardiovascular diseases. Diabetes Care, 36(7), pp.1988–1993. Available at:[https://pmc.ncbi.nlm.nih.gov/articles/PMC3687304/]\n",
    "\n",
    "- Centers for Disease Control and Prevention (CDC), 2024. Adult BMI categories. [online]. Available at: [https://www.cdc.gov/bmi/adult-calculator/bmi-categories.html]\n"
   ]
  }
 ],
 "metadata": {
  "kaggle": {
   "accelerator": "none",
   "dataSources": [
    {
     "datasetId": 1120859,
     "sourceId": 1882037,
     "sourceType": "datasetVersion"
    }
   ],
   "dockerImageVersionId": 31012,
   "isGpuEnabled": false,
   "isInternetEnabled": true,
   "language": "python",
   "sourceType": "notebook"
  },
  "kernelspec": {
   "display_name": "Python 3",
   "language": "python",
   "name": "python3"
  },
  "language_info": {
   "codemirror_mode": {
    "name": "ipython",
    "version": 3
   },
   "file_extension": ".py",
   "mimetype": "text/x-python",
   "name": "python",
   "nbconvert_exporter": "python",
   "pygments_lexer": "ipython3",
   "version": "3.11.11"
  },
  "papermill": {
   "default_parameters": {},
   "duration": 29.46702,
   "end_time": "2025-05-05T18:02:11.299957",
   "environment_variables": {},
   "exception": null,
   "input_path": "__notebook__.ipynb",
   "output_path": "__notebook__.ipynb",
   "parameters": {},
   "start_time": "2025-05-05T18:01:41.832937",
   "version": "2.6.0"
  }
 },
 "nbformat": 4,
 "nbformat_minor": 5
}
